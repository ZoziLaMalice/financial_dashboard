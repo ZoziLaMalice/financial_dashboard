{
 "metadata": {
  "language_info": {
   "codemirror_mode": {
    "name": "ipython",
    "version": 3
   },
   "file_extension": ".py",
   "mimetype": "text/x-python",
   "name": "python",
   "nbconvert_exporter": "python",
   "pygments_lexer": "ipython3",
   "version": "3.8.2-final"
  },
  "orig_nbformat": 2,
  "kernelspec": {
   "name": "python_defaultSpec_1600848315188",
   "display_name": "Python 3.8.2 64-bit"
  }
 },
 "nbformat": 4,
 "nbformat_minor": 2,
 "cells": [
  {
   "cell_type": "code",
   "execution_count": 8,
   "metadata": {
    "tags": []
   },
   "outputs": [
    {
     "output_type": "stream",
     "name": "stderr",
     "text": "[nltk_data] Downloading package punkt to /home/zozi/nltk_data...\n[nltk_data]   Package punkt is already up-to-date!\n[nltk_data] Downloading package stopwords to /home/zozi/nltk_data...\n[nltk_data]   Package stopwords is already up-to-date!\n[nltk_data] Downloading package wordnet to /home/zozi/nltk_data...\n[nltk_data]   Package wordnet is already up-to-date!\n[nltk_data] Downloading package vader_lexicon to\n[nltk_data]     /home/zozi/nltk_data...\n[nltk_data]   Package vader_lexicon is already up-to-date!\n"
    }
   ],
   "source": [
    "import tweepy\n",
    "import configparser as cp\n",
    "import os\n",
    "from datetime import datetime\n",
    "import nltk\n",
    "import re\n",
    "from collections import Counter\n",
    "import numpy as np\n",
    "\n",
    "from nltk import word_tokenize\n",
    "from nltk.corpus import stopwords\n",
    "from nltk.sentiment.vader import SentimentIntensityAnalyzer\n",
    "\n",
    "# download nltk dependencies\n",
    "nltk.download('punkt')\n",
    "nltk.download('stopwords')\n",
    "nltk.download('wordnet')\n",
    "nltk.download('vader_lexicon')\n",
    "\n",
    "# initialize a sentiment analyzer\n",
    "sid = SentimentIntensityAnalyzer()\n",
    "\n",
    "# stop words for the word-counts\n",
    "stops = stopwords.words('english')\n",
    "stops.append('https')\n",
    "\n",
    "# the number of most frequently mentioned tags\n",
    "num_tags_scatter = 5\n",
    "\n",
    "# initalize a dictionary to store the number of tweets for each game\n",
    "scatter_dict = {}\n",
    "sentiment_dict = {}\n",
    "\n",
    "\n",
    "# Config Parser for Twitter API authentification\n",
    "config = cp.ConfigParser()\n",
    "config.read('./config.ini')\n",
    "\n",
    "# Twitter API credentials\n",
    "consumer_key = config.get('AUTH', 'consumer_key')\n",
    "consumer_secret = config.get('AUTH', 'consumer_secret')\n",
    "\n",
    "access_key = config.get('AUTH', 'access_key')\n",
    "access_secret = config.get('AUTH', 'access_secret')\n",
    "\n",
    "auth = tweepy.OAuthHandler(consumer_key, consumer_secret)\n",
    "auth.set_access_token(access_key, access_secret)\n",
    "api = tweepy.API(auth, wait_on_rate_limit=True)\n",
    "\n",
    "\n",
    "def get_tweets_by_query(stock, debug=False):\n",
    "    date_until = datetime.today().strftime('%Y-%m-%d')\n",
    "\n",
    "    # get tweets\n",
    "    tweets = []\n",
    "    query_tag = '#'+str(stock)\n",
    "\n",
    "    if debug:\n",
    "        json_limit = api.rate_limit_status()\n",
    "        print(\"Calls restants : \" + str(json_limit['resources']['search']['/search/tweets']['remaining']) + '\\n')\n",
    "\n",
    "    for tweet in tweepy.Cursor(api.search, q=query_tag, lang=\"en\", count=100).items():\n",
    "        # create array of tweet information: created at, username, text\n",
    "        tweets.append([tweet.created_at, tweet.user.screen_name, tweet.text])\n",
    "\n",
    "    if debug:\n",
    "        json_limit = api.rate_limit_status()\n",
    "        print(\"Calls restants : \" + str(json_limit['resources']['search']['/search/tweets']['remaining']) + '\\n')\n",
    "\n",
    "    df = pd.DataFrame(tweets, columns=['Date', 'Author', 'Text'])\n",
    "    df.Date = df.Date.dt.strftime('%Y-%m-%d')\n",
    "\n",
    "    if debug:\n",
    "        print(df.head())\n",
    "\n",
    "    return df\n",
    "\n",
    "\n",
    "def count_words(series):\n",
    "    # merge the text from all the tweets into one document\n",
    "    document = ' '.join([row for row in series])\n",
    "\n",
    "    # lowercasing, tokenization, and keep only alphabetical tokens\n",
    "    tokens = [word for word in word_tokenize(document.lower()) if word.isalpha()]\n",
    "\n",
    "    # filtering out tokens that are not all alphabetical\n",
    "    tokens = [word for word in re.findall(r'[A-Za-z]+', ' '.join(tokens))]\n",
    "\n",
    "    # remove all stopwords\n",
    "    no_stop = [word for word in tokens if word not in stops]\n",
    "\n",
    "    return Counter(no_stop)\n",
    "\n",
    "\n",
    "def preprocess_nltk(row):\n",
    "    # lowercasing, tokenization, and keep only alphabetical tokens\n",
    "    tokens = [word for word in word_tokenize(row.lower()) if word.isalpha()]\n",
    "\n",
    "    # filtering out tokens that are not all alphabetical\n",
    "    tokens = [word for word in re.findall(r'[A-Za-z]+', ' '.join(tokens))]\n",
    "\n",
    "    # remove all stopwords\n",
    "    no_stop = [word for word in tokens if word not in stops]\n",
    "\n",
    "    return ' '.join(no_stop)"
   ]
  },
  {
   "cell_type": "code",
   "execution_count": 9,
   "metadata": {},
   "outputs": [],
   "source": [
    "import plotly.graph_objects as go\n",
    "import pandas as pd"
   ]
  },
  {
   "cell_type": "code",
   "execution_count": 10,
   "metadata": {
    "tags": []
   },
   "outputs": [],
   "source": [
    "twitter_data = {}\n",
    "for stock in ['AAPL', 'TSLA']:\n",
    "    twitter_data[stock] = get_tweets_by_query(stock)"
   ]
  },
  {
   "cell_type": "code",
   "execution_count": 11,
   "metadata": {},
   "outputs": [
    {
     "output_type": "execute_result",
     "data": {
      "text/plain": "            Date           Author  \\\n0     2020-09-23    AquilaMarkets   \n1     2020-09-23  dailytradingapp   \n2     2020-09-23   ForexTrends365   \n3     2020-09-23  cryptoexp38560E   \n4     2020-09-23   UnsichtbarHand   \n...          ...              ...   \n1016  2020-09-14          xaelbot   \n1017  2020-09-14   ThomasClone_US   \n1018  2020-09-14  learn__together   \n1019  2020-09-14    nodeQuotesBot   \n1020  2020-09-14        concept10   \n\n                                                   Text  \n0     #Aquiladashboard US tech led the #Sp500 rally ...  \n1     #AAPL #AMZN Not All FAANG Stocks Are Going To ...  \n2     RT @cryptoexp38560E: #NZDCAD Target Hit! 90 PI...  \n3     #NZDCAD Target Hit! 90 PIPS Profit 🔥\\n\\nGet Da...  \n4     @yieldbusters @carlosotermin Communism approve...  \n...                                                 ...  \n1016  RT @concept10: Constant note taking is the key...  \n1017  RT @concept10: Constant note taking is the key...  \n1018  RT @concept10: Constant note taking is the key...  \n1019  RT @concept10: Constant note taking is the key...  \n1020  Constant note taking is the key to success. #l...  \n\n[1021 rows x 3 columns]",
      "text/html": "<div>\n<style scoped>\n    .dataframe tbody tr th:only-of-type {\n        vertical-align: middle;\n    }\n\n    .dataframe tbody tr th {\n        vertical-align: top;\n    }\n\n    .dataframe thead th {\n        text-align: right;\n    }\n</style>\n<table border=\"1\" class=\"dataframe\">\n  <thead>\n    <tr style=\"text-align: right;\">\n      <th></th>\n      <th>Date</th>\n      <th>Author</th>\n      <th>Text</th>\n    </tr>\n  </thead>\n  <tbody>\n    <tr>\n      <th>0</th>\n      <td>2020-09-23</td>\n      <td>AquilaMarkets</td>\n      <td>#Aquiladashboard US tech led the #Sp500 rally ...</td>\n    </tr>\n    <tr>\n      <th>1</th>\n      <td>2020-09-23</td>\n      <td>dailytradingapp</td>\n      <td>#AAPL #AMZN Not All FAANG Stocks Are Going To ...</td>\n    </tr>\n    <tr>\n      <th>2</th>\n      <td>2020-09-23</td>\n      <td>ForexTrends365</td>\n      <td>RT @cryptoexp38560E: #NZDCAD Target Hit! 90 PI...</td>\n    </tr>\n    <tr>\n      <th>3</th>\n      <td>2020-09-23</td>\n      <td>cryptoexp38560E</td>\n      <td>#NZDCAD Target Hit! 90 PIPS Profit 🔥\\n\\nGet Da...</td>\n    </tr>\n    <tr>\n      <th>4</th>\n      <td>2020-09-23</td>\n      <td>UnsichtbarHand</td>\n      <td>@yieldbusters @carlosotermin Communism approve...</td>\n    </tr>\n    <tr>\n      <th>...</th>\n      <td>...</td>\n      <td>...</td>\n      <td>...</td>\n    </tr>\n    <tr>\n      <th>1016</th>\n      <td>2020-09-14</td>\n      <td>xaelbot</td>\n      <td>RT @concept10: Constant note taking is the key...</td>\n    </tr>\n    <tr>\n      <th>1017</th>\n      <td>2020-09-14</td>\n      <td>ThomasClone_US</td>\n      <td>RT @concept10: Constant note taking is the key...</td>\n    </tr>\n    <tr>\n      <th>1018</th>\n      <td>2020-09-14</td>\n      <td>learn__together</td>\n      <td>RT @concept10: Constant note taking is the key...</td>\n    </tr>\n    <tr>\n      <th>1019</th>\n      <td>2020-09-14</td>\n      <td>nodeQuotesBot</td>\n      <td>RT @concept10: Constant note taking is the key...</td>\n    </tr>\n    <tr>\n      <th>1020</th>\n      <td>2020-09-14</td>\n      <td>concept10</td>\n      <td>Constant note taking is the key to success. #l...</td>\n    </tr>\n  </tbody>\n</table>\n<p>1021 rows × 3 columns</p>\n</div>"
     },
     "metadata": {},
     "execution_count": 11
    }
   ],
   "source": [
    "twitter_data['AAPL']"
   ]
  },
  {
   "cell_type": "code",
   "execution_count": 98,
   "metadata": {},
   "outputs": [],
   "source": [
    "cnt = count_words(df.Text)"
   ]
  },
  {
   "cell_type": "code",
   "execution_count": 99,
   "metadata": {},
   "outputs": [],
   "source": [
    "df.Date = pd.to_datetime(df.Date)"
   ]
  },
  {
   "cell_type": "code",
   "execution_count": 100,
   "metadata": {},
   "outputs": [
    {
     "output_type": "execute_result",
     "data": {
      "text/plain": "                   Date           Author  \\\n0   2020-09-22 10:34:53  LearningMindse1   \n1   2020-09-22 09:55:19   Xavier_Trading   \n2   2020-09-22 09:07:32  cryptoexp32562F   \n3   2020-09-22 08:47:10  SangamAgarwalFX   \n4   2020-09-22 08:37:20  cryptoexp32562E   \n..                  ...              ...   \n887 2020-09-13 17:10:06      TrendSpider   \n888 2020-09-13 15:40:00   es_tradingview   \n889 2020-09-13 15:35:22         Jin_Yani   \n890 2020-09-13 15:32:22      firstpenney   \n891 2020-09-13 15:29:58         triptwos   \n\n                                                  Text  \n0    #AAPL chart https://t.co/4akHkwsuqH via https:...  \n1    Stock Market Charts | The Market Broke a Key L...  \n2    #EURCAD 275 PIPS Profit🔥✅⭐️\\n\\nFor free signal...  \n3    Apple stock after support at fib  - #AAPL char...  \n4    #EURCAD 275 PIPS Profit🔥✅⭐️\\n\\nFor Forex signa...  \n..                                                 ...  \n887  $AAPL #AAPL A little extended shown by the mon...  \n888  #AAPL - AAPL - TradingView - https://t.co/70Sx...  \n889  RT @Gino89910812: #AAPL remains a buy! https:/...  \n890  RT @OCMillionaire: $BRTXQ big post for those w...  \n891  RT @OCMillionaire: $BRTXQ big post for those w...  \n\n[892 rows x 3 columns]",
      "text/html": "<div>\n<style scoped>\n    .dataframe tbody tr th:only-of-type {\n        vertical-align: middle;\n    }\n\n    .dataframe tbody tr th {\n        vertical-align: top;\n    }\n\n    .dataframe thead th {\n        text-align: right;\n    }\n</style>\n<table border=\"1\" class=\"dataframe\">\n  <thead>\n    <tr style=\"text-align: right;\">\n      <th></th>\n      <th>Date</th>\n      <th>Author</th>\n      <th>Text</th>\n    </tr>\n  </thead>\n  <tbody>\n    <tr>\n      <th>0</th>\n      <td>2020-09-22 10:34:53</td>\n      <td>LearningMindse1</td>\n      <td>#AAPL chart https://t.co/4akHkwsuqH via https:...</td>\n    </tr>\n    <tr>\n      <th>1</th>\n      <td>2020-09-22 09:55:19</td>\n      <td>Xavier_Trading</td>\n      <td>Stock Market Charts | The Market Broke a Key L...</td>\n    </tr>\n    <tr>\n      <th>2</th>\n      <td>2020-09-22 09:07:32</td>\n      <td>cryptoexp32562F</td>\n      <td>#EURCAD 275 PIPS Profit🔥✅⭐️\\n\\nFor free signal...</td>\n    </tr>\n    <tr>\n      <th>3</th>\n      <td>2020-09-22 08:47:10</td>\n      <td>SangamAgarwalFX</td>\n      <td>Apple stock after support at fib  - #AAPL char...</td>\n    </tr>\n    <tr>\n      <th>4</th>\n      <td>2020-09-22 08:37:20</td>\n      <td>cryptoexp32562E</td>\n      <td>#EURCAD 275 PIPS Profit🔥✅⭐️\\n\\nFor Forex signa...</td>\n    </tr>\n    <tr>\n      <th>...</th>\n      <td>...</td>\n      <td>...</td>\n      <td>...</td>\n    </tr>\n    <tr>\n      <th>887</th>\n      <td>2020-09-13 17:10:06</td>\n      <td>TrendSpider</td>\n      <td>$AAPL #AAPL A little extended shown by the mon...</td>\n    </tr>\n    <tr>\n      <th>888</th>\n      <td>2020-09-13 15:40:00</td>\n      <td>es_tradingview</td>\n      <td>#AAPL - AAPL - TradingView - https://t.co/70Sx...</td>\n    </tr>\n    <tr>\n      <th>889</th>\n      <td>2020-09-13 15:35:22</td>\n      <td>Jin_Yani</td>\n      <td>RT @Gino89910812: #AAPL remains a buy! https:/...</td>\n    </tr>\n    <tr>\n      <th>890</th>\n      <td>2020-09-13 15:32:22</td>\n      <td>firstpenney</td>\n      <td>RT @OCMillionaire: $BRTXQ big post for those w...</td>\n    </tr>\n    <tr>\n      <th>891</th>\n      <td>2020-09-13 15:29:58</td>\n      <td>triptwos</td>\n      <td>RT @OCMillionaire: $BRTXQ big post for those w...</td>\n    </tr>\n  </tbody>\n</table>\n<p>892 rows × 3 columns</p>\n</div>"
     },
     "metadata": {},
     "execution_count": 100
    }
   ],
   "source": [
    "df"
   ]
  },
  {
   "cell_type": "code",
   "execution_count": 106,
   "metadata": {},
   "outputs": [],
   "source": [
    "df['Hours'] = df.Date.dt.hour\n",
    "df['Days'] = df.Date.dt.day"
   ]
  },
  {
   "cell_type": "code",
   "execution_count": 107,
   "metadata": {},
   "outputs": [
    {
     "output_type": "execute_result",
     "data": {
      "text/plain": "                   Date           Author  \\\n0   2020-09-22 10:34:53  LearningMindse1   \n1   2020-09-22 09:55:19   Xavier_Trading   \n2   2020-09-22 09:07:32  cryptoexp32562F   \n3   2020-09-22 08:47:10  SangamAgarwalFX   \n4   2020-09-22 08:37:20  cryptoexp32562E   \n..                  ...              ...   \n887 2020-09-13 17:10:06      TrendSpider   \n888 2020-09-13 15:40:00   es_tradingview   \n889 2020-09-13 15:35:22         Jin_Yani   \n890 2020-09-13 15:32:22      firstpenney   \n891 2020-09-13 15:29:58         triptwos   \n\n                                                  Text  Hours  Days  \n0    #AAPL chart https://t.co/4akHkwsuqH via https:...     10    22  \n1    Stock Market Charts | The Market Broke a Key L...      9    22  \n2    #EURCAD 275 PIPS Profit🔥✅⭐️\\n\\nFor free signal...      9    22  \n3    Apple stock after support at fib  - #AAPL char...      8    22  \n4    #EURCAD 275 PIPS Profit🔥✅⭐️\\n\\nFor Forex signa...      8    22  \n..                                                 ...    ...   ...  \n887  $AAPL #AAPL A little extended shown by the mon...     17    13  \n888  #AAPL - AAPL - TradingView - https://t.co/70Sx...     15    13  \n889  RT @Gino89910812: #AAPL remains a buy! https:/...     15    13  \n890  RT @OCMillionaire: $BRTXQ big post for those w...     15    13  \n891  RT @OCMillionaire: $BRTXQ big post for those w...     15    13  \n\n[892 rows x 5 columns]",
      "text/html": "<div>\n<style scoped>\n    .dataframe tbody tr th:only-of-type {\n        vertical-align: middle;\n    }\n\n    .dataframe tbody tr th {\n        vertical-align: top;\n    }\n\n    .dataframe thead th {\n        text-align: right;\n    }\n</style>\n<table border=\"1\" class=\"dataframe\">\n  <thead>\n    <tr style=\"text-align: right;\">\n      <th></th>\n      <th>Date</th>\n      <th>Author</th>\n      <th>Text</th>\n      <th>Hours</th>\n      <th>Days</th>\n    </tr>\n  </thead>\n  <tbody>\n    <tr>\n      <th>0</th>\n      <td>2020-09-22 10:34:53</td>\n      <td>LearningMindse1</td>\n      <td>#AAPL chart https://t.co/4akHkwsuqH via https:...</td>\n      <td>10</td>\n      <td>22</td>\n    </tr>\n    <tr>\n      <th>1</th>\n      <td>2020-09-22 09:55:19</td>\n      <td>Xavier_Trading</td>\n      <td>Stock Market Charts | The Market Broke a Key L...</td>\n      <td>9</td>\n      <td>22</td>\n    </tr>\n    <tr>\n      <th>2</th>\n      <td>2020-09-22 09:07:32</td>\n      <td>cryptoexp32562F</td>\n      <td>#EURCAD 275 PIPS Profit🔥✅⭐️\\n\\nFor free signal...</td>\n      <td>9</td>\n      <td>22</td>\n    </tr>\n    <tr>\n      <th>3</th>\n      <td>2020-09-22 08:47:10</td>\n      <td>SangamAgarwalFX</td>\n      <td>Apple stock after support at fib  - #AAPL char...</td>\n      <td>8</td>\n      <td>22</td>\n    </tr>\n    <tr>\n      <th>4</th>\n      <td>2020-09-22 08:37:20</td>\n      <td>cryptoexp32562E</td>\n      <td>#EURCAD 275 PIPS Profit🔥✅⭐️\\n\\nFor Forex signa...</td>\n      <td>8</td>\n      <td>22</td>\n    </tr>\n    <tr>\n      <th>...</th>\n      <td>...</td>\n      <td>...</td>\n      <td>...</td>\n      <td>...</td>\n      <td>...</td>\n    </tr>\n    <tr>\n      <th>887</th>\n      <td>2020-09-13 17:10:06</td>\n      <td>TrendSpider</td>\n      <td>$AAPL #AAPL A little extended shown by the mon...</td>\n      <td>17</td>\n      <td>13</td>\n    </tr>\n    <tr>\n      <th>888</th>\n      <td>2020-09-13 15:40:00</td>\n      <td>es_tradingview</td>\n      <td>#AAPL - AAPL - TradingView - https://t.co/70Sx...</td>\n      <td>15</td>\n      <td>13</td>\n    </tr>\n    <tr>\n      <th>889</th>\n      <td>2020-09-13 15:35:22</td>\n      <td>Jin_Yani</td>\n      <td>RT @Gino89910812: #AAPL remains a buy! https:/...</td>\n      <td>15</td>\n      <td>13</td>\n    </tr>\n    <tr>\n      <th>890</th>\n      <td>2020-09-13 15:32:22</td>\n      <td>firstpenney</td>\n      <td>RT @OCMillionaire: $BRTXQ big post for those w...</td>\n      <td>15</td>\n      <td>13</td>\n    </tr>\n    <tr>\n      <th>891</th>\n      <td>2020-09-13 15:29:58</td>\n      <td>triptwos</td>\n      <td>RT @OCMillionaire: $BRTXQ big post for those w...</td>\n      <td>15</td>\n      <td>13</td>\n    </tr>\n  </tbody>\n</table>\n<p>892 rows × 5 columns</p>\n</div>"
     },
     "metadata": {},
     "execution_count": 107
    }
   ],
   "source": [
    "df"
   ]
  },
  {
   "cell_type": "code",
   "execution_count": 109,
   "metadata": {},
   "outputs": [
    {
     "output_type": "execute_result",
     "data": {
      "text/plain": "      Date  Author  Text  Hours\nDays                           \n13      21      21    21     21\n14      78      78    78     78\n15     193     193   193    193\n16     120     120   120    120\n17     128     128   128    128\n18     110     110   110    110\n19      61      61    61     61\n20      80      80    80     80\n21      77      77    77     77\n22      24      24    24     24",
      "text/html": "<div>\n<style scoped>\n    .dataframe tbody tr th:only-of-type {\n        vertical-align: middle;\n    }\n\n    .dataframe tbody tr th {\n        vertical-align: top;\n    }\n\n    .dataframe thead th {\n        text-align: right;\n    }\n</style>\n<table border=\"1\" class=\"dataframe\">\n  <thead>\n    <tr style=\"text-align: right;\">\n      <th></th>\n      <th>Date</th>\n      <th>Author</th>\n      <th>Text</th>\n      <th>Hours</th>\n    </tr>\n    <tr>\n      <th>Days</th>\n      <th></th>\n      <th></th>\n      <th></th>\n      <th></th>\n    </tr>\n  </thead>\n  <tbody>\n    <tr>\n      <th>13</th>\n      <td>21</td>\n      <td>21</td>\n      <td>21</td>\n      <td>21</td>\n    </tr>\n    <tr>\n      <th>14</th>\n      <td>78</td>\n      <td>78</td>\n      <td>78</td>\n      <td>78</td>\n    </tr>\n    <tr>\n      <th>15</th>\n      <td>193</td>\n      <td>193</td>\n      <td>193</td>\n      <td>193</td>\n    </tr>\n    <tr>\n      <th>16</th>\n      <td>120</td>\n      <td>120</td>\n      <td>120</td>\n      <td>120</td>\n    </tr>\n    <tr>\n      <th>17</th>\n      <td>128</td>\n      <td>128</td>\n      <td>128</td>\n      <td>128</td>\n    </tr>\n    <tr>\n      <th>18</th>\n      <td>110</td>\n      <td>110</td>\n      <td>110</td>\n      <td>110</td>\n    </tr>\n    <tr>\n      <th>19</th>\n      <td>61</td>\n      <td>61</td>\n      <td>61</td>\n      <td>61</td>\n    </tr>\n    <tr>\n      <th>20</th>\n      <td>80</td>\n      <td>80</td>\n      <td>80</td>\n      <td>80</td>\n    </tr>\n    <tr>\n      <th>21</th>\n      <td>77</td>\n      <td>77</td>\n      <td>77</td>\n      <td>77</td>\n    </tr>\n    <tr>\n      <th>22</th>\n      <td>24</td>\n      <td>24</td>\n      <td>24</td>\n      <td>24</td>\n    </tr>\n  </tbody>\n</table>\n</div>"
     },
     "metadata": {},
     "execution_count": 109
    }
   ],
   "source": [
    "df.groupby('Days').count()"
   ]
  },
  {
   "cell_type": "code",
   "execution_count": 119,
   "metadata": {
    "tags": []
   },
   "outputs": [
    {
     "output_type": "stream",
     "name": "stdout",
     "text": "Calls restants : 180\n\nCalls restants : 170\n\nCalls restants : 170\n\nCalls restants : 150\n\nCalls restants : 150\n\nCalls restants : 147\n\n"
    },
    {
     "output_type": "display_data",
     "data": {
      "application/vnd.plotly.v1+json": {
       "config": {
        "plotlyServerURL": "https://plot.ly"
       },
       "data": [
        {
         "type": "scatter",
         "x": [
          13,
          14,
          15,
          16,
          17,
          18,
          19,
          20,
          21,
          22
         ],
         "y": [
          21,
          78,
          193,
          120,
          128,
          110,
          61,
          80,
          76,
          30
         ]
        },
        {
         "type": "scatter",
         "x": [
          13,
          14,
          15,
          16,
          17,
          18,
          19,
          20,
          21,
          22
         ],
         "y": [
          38,
          231,
          300,
          210,
          193,
          170,
          102,
          151,
          258,
          135
         ]
        },
        {
         "type": "scatter",
         "x": [
          13,
          14,
          15,
          16,
          17,
          18,
          19,
          20,
          21
         ],
         "y": [
          6,
          5,
          18,
          20,
          22,
          23,
          9,
          12,
          11
         ]
        }
       ],
       "layout": {
        "template": {
         "data": {
          "bar": [
           {
            "error_x": {
             "color": "#2a3f5f"
            },
            "error_y": {
             "color": "#2a3f5f"
            },
            "marker": {
             "line": {
              "color": "#E5ECF6",
              "width": 0.5
             }
            },
            "type": "bar"
           }
          ],
          "barpolar": [
           {
            "marker": {
             "line": {
              "color": "#E5ECF6",
              "width": 0.5
             }
            },
            "type": "barpolar"
           }
          ],
          "carpet": [
           {
            "aaxis": {
             "endlinecolor": "#2a3f5f",
             "gridcolor": "white",
             "linecolor": "white",
             "minorgridcolor": "white",
             "startlinecolor": "#2a3f5f"
            },
            "baxis": {
             "endlinecolor": "#2a3f5f",
             "gridcolor": "white",
             "linecolor": "white",
             "minorgridcolor": "white",
             "startlinecolor": "#2a3f5f"
            },
            "type": "carpet"
           }
          ],
          "choropleth": [
           {
            "colorbar": {
             "outlinewidth": 0,
             "ticks": ""
            },
            "type": "choropleth"
           }
          ],
          "contour": [
           {
            "colorbar": {
             "outlinewidth": 0,
             "ticks": ""
            },
            "colorscale": [
             [
              0,
              "#0d0887"
             ],
             [
              0.1111111111111111,
              "#46039f"
             ],
             [
              0.2222222222222222,
              "#7201a8"
             ],
             [
              0.3333333333333333,
              "#9c179e"
             ],
             [
              0.4444444444444444,
              "#bd3786"
             ],
             [
              0.5555555555555556,
              "#d8576b"
             ],
             [
              0.6666666666666666,
              "#ed7953"
             ],
             [
              0.7777777777777778,
              "#fb9f3a"
             ],
             [
              0.8888888888888888,
              "#fdca26"
             ],
             [
              1,
              "#f0f921"
             ]
            ],
            "type": "contour"
           }
          ],
          "contourcarpet": [
           {
            "colorbar": {
             "outlinewidth": 0,
             "ticks": ""
            },
            "type": "contourcarpet"
           }
          ],
          "heatmap": [
           {
            "colorbar": {
             "outlinewidth": 0,
             "ticks": ""
            },
            "colorscale": [
             [
              0,
              "#0d0887"
             ],
             [
              0.1111111111111111,
              "#46039f"
             ],
             [
              0.2222222222222222,
              "#7201a8"
             ],
             [
              0.3333333333333333,
              "#9c179e"
             ],
             [
              0.4444444444444444,
              "#bd3786"
             ],
             [
              0.5555555555555556,
              "#d8576b"
             ],
             [
              0.6666666666666666,
              "#ed7953"
             ],
             [
              0.7777777777777778,
              "#fb9f3a"
             ],
             [
              0.8888888888888888,
              "#fdca26"
             ],
             [
              1,
              "#f0f921"
             ]
            ],
            "type": "heatmap"
           }
          ],
          "heatmapgl": [
           {
            "colorbar": {
             "outlinewidth": 0,
             "ticks": ""
            },
            "colorscale": [
             [
              0,
              "#0d0887"
             ],
             [
              0.1111111111111111,
              "#46039f"
             ],
             [
              0.2222222222222222,
              "#7201a8"
             ],
             [
              0.3333333333333333,
              "#9c179e"
             ],
             [
              0.4444444444444444,
              "#bd3786"
             ],
             [
              0.5555555555555556,
              "#d8576b"
             ],
             [
              0.6666666666666666,
              "#ed7953"
             ],
             [
              0.7777777777777778,
              "#fb9f3a"
             ],
             [
              0.8888888888888888,
              "#fdca26"
             ],
             [
              1,
              "#f0f921"
             ]
            ],
            "type": "heatmapgl"
           }
          ],
          "histogram": [
           {
            "marker": {
             "colorbar": {
              "outlinewidth": 0,
              "ticks": ""
             }
            },
            "type": "histogram"
           }
          ],
          "histogram2d": [
           {
            "colorbar": {
             "outlinewidth": 0,
             "ticks": ""
            },
            "colorscale": [
             [
              0,
              "#0d0887"
             ],
             [
              0.1111111111111111,
              "#46039f"
             ],
             [
              0.2222222222222222,
              "#7201a8"
             ],
             [
              0.3333333333333333,
              "#9c179e"
             ],
             [
              0.4444444444444444,
              "#bd3786"
             ],
             [
              0.5555555555555556,
              "#d8576b"
             ],
             [
              0.6666666666666666,
              "#ed7953"
             ],
             [
              0.7777777777777778,
              "#fb9f3a"
             ],
             [
              0.8888888888888888,
              "#fdca26"
             ],
             [
              1,
              "#f0f921"
             ]
            ],
            "type": "histogram2d"
           }
          ],
          "histogram2dcontour": [
           {
            "colorbar": {
             "outlinewidth": 0,
             "ticks": ""
            },
            "colorscale": [
             [
              0,
              "#0d0887"
             ],
             [
              0.1111111111111111,
              "#46039f"
             ],
             [
              0.2222222222222222,
              "#7201a8"
             ],
             [
              0.3333333333333333,
              "#9c179e"
             ],
             [
              0.4444444444444444,
              "#bd3786"
             ],
             [
              0.5555555555555556,
              "#d8576b"
             ],
             [
              0.6666666666666666,
              "#ed7953"
             ],
             [
              0.7777777777777778,
              "#fb9f3a"
             ],
             [
              0.8888888888888888,
              "#fdca26"
             ],
             [
              1,
              "#f0f921"
             ]
            ],
            "type": "histogram2dcontour"
           }
          ],
          "mesh3d": [
           {
            "colorbar": {
             "outlinewidth": 0,
             "ticks": ""
            },
            "type": "mesh3d"
           }
          ],
          "parcoords": [
           {
            "line": {
             "colorbar": {
              "outlinewidth": 0,
              "ticks": ""
             }
            },
            "type": "parcoords"
           }
          ],
          "pie": [
           {
            "automargin": true,
            "type": "pie"
           }
          ],
          "scatter": [
           {
            "marker": {
             "colorbar": {
              "outlinewidth": 0,
              "ticks": ""
             }
            },
            "type": "scatter"
           }
          ],
          "scatter3d": [
           {
            "line": {
             "colorbar": {
              "outlinewidth": 0,
              "ticks": ""
             }
            },
            "marker": {
             "colorbar": {
              "outlinewidth": 0,
              "ticks": ""
             }
            },
            "type": "scatter3d"
           }
          ],
          "scattercarpet": [
           {
            "marker": {
             "colorbar": {
              "outlinewidth": 0,
              "ticks": ""
             }
            },
            "type": "scattercarpet"
           }
          ],
          "scattergeo": [
           {
            "marker": {
             "colorbar": {
              "outlinewidth": 0,
              "ticks": ""
             }
            },
            "type": "scattergeo"
           }
          ],
          "scattergl": [
           {
            "marker": {
             "colorbar": {
              "outlinewidth": 0,
              "ticks": ""
             }
            },
            "type": "scattergl"
           }
          ],
          "scattermapbox": [
           {
            "marker": {
             "colorbar": {
              "outlinewidth": 0,
              "ticks": ""
             }
            },
            "type": "scattermapbox"
           }
          ],
          "scatterpolar": [
           {
            "marker": {
             "colorbar": {
              "outlinewidth": 0,
              "ticks": ""
             }
            },
            "type": "scatterpolar"
           }
          ],
          "scatterpolargl": [
           {
            "marker": {
             "colorbar": {
              "outlinewidth": 0,
              "ticks": ""
             }
            },
            "type": "scatterpolargl"
           }
          ],
          "scatterternary": [
           {
            "marker": {
             "colorbar": {
              "outlinewidth": 0,
              "ticks": ""
             }
            },
            "type": "scatterternary"
           }
          ],
          "surface": [
           {
            "colorbar": {
             "outlinewidth": 0,
             "ticks": ""
            },
            "colorscale": [
             [
              0,
              "#0d0887"
             ],
             [
              0.1111111111111111,
              "#46039f"
             ],
             [
              0.2222222222222222,
              "#7201a8"
             ],
             [
              0.3333333333333333,
              "#9c179e"
             ],
             [
              0.4444444444444444,
              "#bd3786"
             ],
             [
              0.5555555555555556,
              "#d8576b"
             ],
             [
              0.6666666666666666,
              "#ed7953"
             ],
             [
              0.7777777777777778,
              "#fb9f3a"
             ],
             [
              0.8888888888888888,
              "#fdca26"
             ],
             [
              1,
              "#f0f921"
             ]
            ],
            "type": "surface"
           }
          ],
          "table": [
           {
            "cells": {
             "fill": {
              "color": "#EBF0F8"
             },
             "line": {
              "color": "white"
             }
            },
            "header": {
             "fill": {
              "color": "#C8D4E3"
             },
             "line": {
              "color": "white"
             }
            },
            "type": "table"
           }
          ]
         },
         "layout": {
          "annotationdefaults": {
           "arrowcolor": "#2a3f5f",
           "arrowhead": 0,
           "arrowwidth": 1
          },
          "coloraxis": {
           "colorbar": {
            "outlinewidth": 0,
            "ticks": ""
           }
          },
          "colorscale": {
           "diverging": [
            [
             0,
             "#8e0152"
            ],
            [
             0.1,
             "#c51b7d"
            ],
            [
             0.2,
             "#de77ae"
            ],
            [
             0.3,
             "#f1b6da"
            ],
            [
             0.4,
             "#fde0ef"
            ],
            [
             0.5,
             "#f7f7f7"
            ],
            [
             0.6,
             "#e6f5d0"
            ],
            [
             0.7,
             "#b8e186"
            ],
            [
             0.8,
             "#7fbc41"
            ],
            [
             0.9,
             "#4d9221"
            ],
            [
             1,
             "#276419"
            ]
           ],
           "sequential": [
            [
             0,
             "#0d0887"
            ],
            [
             0.1111111111111111,
             "#46039f"
            ],
            [
             0.2222222222222222,
             "#7201a8"
            ],
            [
             0.3333333333333333,
             "#9c179e"
            ],
            [
             0.4444444444444444,
             "#bd3786"
            ],
            [
             0.5555555555555556,
             "#d8576b"
            ],
            [
             0.6666666666666666,
             "#ed7953"
            ],
            [
             0.7777777777777778,
             "#fb9f3a"
            ],
            [
             0.8888888888888888,
             "#fdca26"
            ],
            [
             1,
             "#f0f921"
            ]
           ],
           "sequentialminus": [
            [
             0,
             "#0d0887"
            ],
            [
             0.1111111111111111,
             "#46039f"
            ],
            [
             0.2222222222222222,
             "#7201a8"
            ],
            [
             0.3333333333333333,
             "#9c179e"
            ],
            [
             0.4444444444444444,
             "#bd3786"
            ],
            [
             0.5555555555555556,
             "#d8576b"
            ],
            [
             0.6666666666666666,
             "#ed7953"
            ],
            [
             0.7777777777777778,
             "#fb9f3a"
            ],
            [
             0.8888888888888888,
             "#fdca26"
            ],
            [
             1,
             "#f0f921"
            ]
           ]
          },
          "colorway": [
           "#636efa",
           "#EF553B",
           "#00cc96",
           "#ab63fa",
           "#FFA15A",
           "#19d3f3",
           "#FF6692",
           "#B6E880",
           "#FF97FF",
           "#FECB52"
          ],
          "font": {
           "color": "#2a3f5f"
          },
          "geo": {
           "bgcolor": "white",
           "lakecolor": "white",
           "landcolor": "#E5ECF6",
           "showlakes": true,
           "showland": true,
           "subunitcolor": "white"
          },
          "hoverlabel": {
           "align": "left"
          },
          "hovermode": "closest",
          "mapbox": {
           "style": "light"
          },
          "paper_bgcolor": "white",
          "plot_bgcolor": "#E5ECF6",
          "polar": {
           "angularaxis": {
            "gridcolor": "white",
            "linecolor": "white",
            "ticks": ""
           },
           "bgcolor": "#E5ECF6",
           "radialaxis": {
            "gridcolor": "white",
            "linecolor": "white",
            "ticks": ""
           }
          },
          "scene": {
           "xaxis": {
            "backgroundcolor": "#E5ECF6",
            "gridcolor": "white",
            "gridwidth": 2,
            "linecolor": "white",
            "showbackground": true,
            "ticks": "",
            "zerolinecolor": "white"
           },
           "yaxis": {
            "backgroundcolor": "#E5ECF6",
            "gridcolor": "white",
            "gridwidth": 2,
            "linecolor": "white",
            "showbackground": true,
            "ticks": "",
            "zerolinecolor": "white"
           },
           "zaxis": {
            "backgroundcolor": "#E5ECF6",
            "gridcolor": "white",
            "gridwidth": 2,
            "linecolor": "white",
            "showbackground": true,
            "ticks": "",
            "zerolinecolor": "white"
           }
          },
          "shapedefaults": {
           "line": {
            "color": "#2a3f5f"
           }
          },
          "ternary": {
           "aaxis": {
            "gridcolor": "white",
            "linecolor": "white",
            "ticks": ""
           },
           "baxis": {
            "gridcolor": "white",
            "linecolor": "white",
            "ticks": ""
           },
           "bgcolor": "#E5ECF6",
           "caxis": {
            "gridcolor": "white",
            "linecolor": "white",
            "ticks": ""
           }
          },
          "title": {
           "x": 0.05
          },
          "xaxis": {
           "automargin": true,
           "gridcolor": "white",
           "linecolor": "white",
           "ticks": "",
           "title": {
            "standoff": 15
           },
           "zerolinecolor": "white",
           "zerolinewidth": 2
          },
          "yaxis": {
           "automargin": true,
           "gridcolor": "white",
           "linecolor": "white",
           "ticks": "",
           "title": {
            "standoff": 15
           },
           "zerolinecolor": "white",
           "zerolinewidth": 2
          }
         }
        }
       }
      }
     },
     "metadata": {}
    }
   ],
   "source": [
    "fig = go.Figure()\n",
    "\n",
    "for stock in ['AAPL', 'TSLA', 'GOOG']:\n",
    "    li, _ = get_tweets_by_query(stock, 100)\n",
    "    x, y, _ = organize_data(li)\n",
    "    fig.add_trace(\n",
    "        go.Scatter(\n",
    "            x=x,\n",
    "            y=y,\n",
    "            name=stock\n",
    "    ))\n",
    "\n",
    "fig.show()"
   ]
  },
  {
   "cell_type": "code",
   "execution_count": 116,
   "metadata": {},
   "outputs": [],
   "source": [
    "# colors for plots\n",
    "chart_colors = [\n",
    "    '#664DFF',\n",
    "    '#893BFF',\n",
    "    '#3CC5E8',\n",
    "    '#2C93E8',\n",
    "    '#0BEBDD',\n",
    "    '#0073FF',\n",
    "    '#00BDFF',\n",
    "    '#A5E82C',\n",
    "    '#FFBD42',\n",
    "    '#FFCA30'\n",
    "]\n",
    "# global color setting\n",
    "app_color = {\n",
    "    \"graph_bg\": \"rgb(221, 236, 255)\",\n",
    "    \"graph_line\": \"rgb(8, 70, 151)\",\n",
    "    \"graph_font\":\"rgb(2, 29, 65)\"\n",
    "}"
   ]
  },
  {
   "cell_type": "code",
   "execution_count": 128,
   "metadata": {
    "tags": []
   },
   "outputs": [
    {
     "output_type": "stream",
     "name": "stdout",
     "text": "Calls restants : 173\n\nCalls restants : 163\n\nCalls restants : 163\n\nCalls restants : 143\n\nCalls restants : 143\n\nCalls restants : 136\n\n"
    },
    {
     "output_type": "display_data",
     "data": {
      "application/vnd.plotly.v1+json": {
       "config": {
        "plotlyServerURL": "https://plot.ly"
       },
       "data": [
        {
         "marker": {
          "color": [
           "#FFCA30",
           "#FFBD42",
           "#A5E82C",
           "#00BDFF",
           "#0073FF",
           "#0BEBDD",
           "#2C93E8",
           "#3CC5E8",
           "#893BFF",
           "#664DFF"
          ]
         },
         "name": "Word Counts",
         "orientation": "h",
         "type": "bar",
         "visible": true,
         "x": [
          70,
          71,
          73,
          76,
          88,
          96,
          105,
          182,
          207,
          730
         ],
         "y": [
          "amp",
          "fb",
          "tsla",
          "spy",
          "signals",
          "stock",
          "free",
          "rt",
          "apple",
          "aapl"
         ]
        },
        {
         "marker": {
          "color": [
           "#FFCA30",
           "#FFBD42",
           "#A5E82C",
           "#00BDFF",
           "#0073FF",
           "#0BEBDD",
           "#2C93E8",
           "#3CC5E8",
           "#893BFF",
           "#664DFF"
          ]
         },
         "name": "Word Counts",
         "orientation": "h",
         "type": "bar",
         "visible": false,
         "x": [
          97,
          106,
          113,
          138,
          178,
          224,
          237,
          547,
          574,
          1608
         ],
         "y": [
          "aapl",
          "batteryday",
          "stock",
          "tslaq",
          "battery",
          "elonmusk",
          "day",
          "tesla",
          "rt",
          "tsla"
         ]
        },
        {
         "marker": {
          "color": [
           "#FFCA30",
           "#FFBD42",
           "#A5E82C",
           "#00BDFF",
           "#0073FF",
           "#0BEBDD",
           "#2C93E8",
           "#3CC5E8",
           "#893BFF",
           "#664DFF"
          ]
         },
         "name": "Word Counts",
         "orientation": "h",
         "type": "bar",
         "visible": false,
         "x": [
          41,
          50,
          51,
          52,
          53,
          57,
          76,
          125,
          193,
          319
         ],
         "y": [
          "amzn",
          "trading",
          "aapl",
          "fb",
          "onmsft",
          "amp",
          "free",
          "rt",
          "microsoft",
          "msft"
         ]
        }
       ],
       "layout": {
        "autosize": true,
        "font": {
         "color": "rgb(2, 29, 65)"
        },
        "height": 300,
        "margin": {
         "b": 75,
         "l": 100,
         "pad": 4,
         "r": 25,
         "t": 25
        },
        "paper_bgcolor": "rgb(221, 236, 255)",
        "plot_bgcolor": "rgb(221, 236, 255)",
        "template": {
         "data": {
          "bar": [
           {
            "error_x": {
             "color": "#2a3f5f"
            },
            "error_y": {
             "color": "#2a3f5f"
            },
            "marker": {
             "line": {
              "color": "#E5ECF6",
              "width": 0.5
             }
            },
            "type": "bar"
           }
          ],
          "barpolar": [
           {
            "marker": {
             "line": {
              "color": "#E5ECF6",
              "width": 0.5
             }
            },
            "type": "barpolar"
           }
          ],
          "carpet": [
           {
            "aaxis": {
             "endlinecolor": "#2a3f5f",
             "gridcolor": "white",
             "linecolor": "white",
             "minorgridcolor": "white",
             "startlinecolor": "#2a3f5f"
            },
            "baxis": {
             "endlinecolor": "#2a3f5f",
             "gridcolor": "white",
             "linecolor": "white",
             "minorgridcolor": "white",
             "startlinecolor": "#2a3f5f"
            },
            "type": "carpet"
           }
          ],
          "choropleth": [
           {
            "colorbar": {
             "outlinewidth": 0,
             "ticks": ""
            },
            "type": "choropleth"
           }
          ],
          "contour": [
           {
            "colorbar": {
             "outlinewidth": 0,
             "ticks": ""
            },
            "colorscale": [
             [
              0,
              "#0d0887"
             ],
             [
              0.1111111111111111,
              "#46039f"
             ],
             [
              0.2222222222222222,
              "#7201a8"
             ],
             [
              0.3333333333333333,
              "#9c179e"
             ],
             [
              0.4444444444444444,
              "#bd3786"
             ],
             [
              0.5555555555555556,
              "#d8576b"
             ],
             [
              0.6666666666666666,
              "#ed7953"
             ],
             [
              0.7777777777777778,
              "#fb9f3a"
             ],
             [
              0.8888888888888888,
              "#fdca26"
             ],
             [
              1,
              "#f0f921"
             ]
            ],
            "type": "contour"
           }
          ],
          "contourcarpet": [
           {
            "colorbar": {
             "outlinewidth": 0,
             "ticks": ""
            },
            "type": "contourcarpet"
           }
          ],
          "heatmap": [
           {
            "colorbar": {
             "outlinewidth": 0,
             "ticks": ""
            },
            "colorscale": [
             [
              0,
              "#0d0887"
             ],
             [
              0.1111111111111111,
              "#46039f"
             ],
             [
              0.2222222222222222,
              "#7201a8"
             ],
             [
              0.3333333333333333,
              "#9c179e"
             ],
             [
              0.4444444444444444,
              "#bd3786"
             ],
             [
              0.5555555555555556,
              "#d8576b"
             ],
             [
              0.6666666666666666,
              "#ed7953"
             ],
             [
              0.7777777777777778,
              "#fb9f3a"
             ],
             [
              0.8888888888888888,
              "#fdca26"
             ],
             [
              1,
              "#f0f921"
             ]
            ],
            "type": "heatmap"
           }
          ],
          "heatmapgl": [
           {
            "colorbar": {
             "outlinewidth": 0,
             "ticks": ""
            },
            "colorscale": [
             [
              0,
              "#0d0887"
             ],
             [
              0.1111111111111111,
              "#46039f"
             ],
             [
              0.2222222222222222,
              "#7201a8"
             ],
             [
              0.3333333333333333,
              "#9c179e"
             ],
             [
              0.4444444444444444,
              "#bd3786"
             ],
             [
              0.5555555555555556,
              "#d8576b"
             ],
             [
              0.6666666666666666,
              "#ed7953"
             ],
             [
              0.7777777777777778,
              "#fb9f3a"
             ],
             [
              0.8888888888888888,
              "#fdca26"
             ],
             [
              1,
              "#f0f921"
             ]
            ],
            "type": "heatmapgl"
           }
          ],
          "histogram": [
           {
            "marker": {
             "colorbar": {
              "outlinewidth": 0,
              "ticks": ""
             }
            },
            "type": "histogram"
           }
          ],
          "histogram2d": [
           {
            "colorbar": {
             "outlinewidth": 0,
             "ticks": ""
            },
            "colorscale": [
             [
              0,
              "#0d0887"
             ],
             [
              0.1111111111111111,
              "#46039f"
             ],
             [
              0.2222222222222222,
              "#7201a8"
             ],
             [
              0.3333333333333333,
              "#9c179e"
             ],
             [
              0.4444444444444444,
              "#bd3786"
             ],
             [
              0.5555555555555556,
              "#d8576b"
             ],
             [
              0.6666666666666666,
              "#ed7953"
             ],
             [
              0.7777777777777778,
              "#fb9f3a"
             ],
             [
              0.8888888888888888,
              "#fdca26"
             ],
             [
              1,
              "#f0f921"
             ]
            ],
            "type": "histogram2d"
           }
          ],
          "histogram2dcontour": [
           {
            "colorbar": {
             "outlinewidth": 0,
             "ticks": ""
            },
            "colorscale": [
             [
              0,
              "#0d0887"
             ],
             [
              0.1111111111111111,
              "#46039f"
             ],
             [
              0.2222222222222222,
              "#7201a8"
             ],
             [
              0.3333333333333333,
              "#9c179e"
             ],
             [
              0.4444444444444444,
              "#bd3786"
             ],
             [
              0.5555555555555556,
              "#d8576b"
             ],
             [
              0.6666666666666666,
              "#ed7953"
             ],
             [
              0.7777777777777778,
              "#fb9f3a"
             ],
             [
              0.8888888888888888,
              "#fdca26"
             ],
             [
              1,
              "#f0f921"
             ]
            ],
            "type": "histogram2dcontour"
           }
          ],
          "mesh3d": [
           {
            "colorbar": {
             "outlinewidth": 0,
             "ticks": ""
            },
            "type": "mesh3d"
           }
          ],
          "parcoords": [
           {
            "line": {
             "colorbar": {
              "outlinewidth": 0,
              "ticks": ""
             }
            },
            "type": "parcoords"
           }
          ],
          "pie": [
           {
            "automargin": true,
            "type": "pie"
           }
          ],
          "scatter": [
           {
            "marker": {
             "colorbar": {
              "outlinewidth": 0,
              "ticks": ""
             }
            },
            "type": "scatter"
           }
          ],
          "scatter3d": [
           {
            "line": {
             "colorbar": {
              "outlinewidth": 0,
              "ticks": ""
             }
            },
            "marker": {
             "colorbar": {
              "outlinewidth": 0,
              "ticks": ""
             }
            },
            "type": "scatter3d"
           }
          ],
          "scattercarpet": [
           {
            "marker": {
             "colorbar": {
              "outlinewidth": 0,
              "ticks": ""
             }
            },
            "type": "scattercarpet"
           }
          ],
          "scattergeo": [
           {
            "marker": {
             "colorbar": {
              "outlinewidth": 0,
              "ticks": ""
             }
            },
            "type": "scattergeo"
           }
          ],
          "scattergl": [
           {
            "marker": {
             "colorbar": {
              "outlinewidth": 0,
              "ticks": ""
             }
            },
            "type": "scattergl"
           }
          ],
          "scattermapbox": [
           {
            "marker": {
             "colorbar": {
              "outlinewidth": 0,
              "ticks": ""
             }
            },
            "type": "scattermapbox"
           }
          ],
          "scatterpolar": [
           {
            "marker": {
             "colorbar": {
              "outlinewidth": 0,
              "ticks": ""
             }
            },
            "type": "scatterpolar"
           }
          ],
          "scatterpolargl": [
           {
            "marker": {
             "colorbar": {
              "outlinewidth": 0,
              "ticks": ""
             }
            },
            "type": "scatterpolargl"
           }
          ],
          "scatterternary": [
           {
            "marker": {
             "colorbar": {
              "outlinewidth": 0,
              "ticks": ""
             }
            },
            "type": "scatterternary"
           }
          ],
          "surface": [
           {
            "colorbar": {
             "outlinewidth": 0,
             "ticks": ""
            },
            "colorscale": [
             [
              0,
              "#0d0887"
             ],
             [
              0.1111111111111111,
              "#46039f"
             ],
             [
              0.2222222222222222,
              "#7201a8"
             ],
             [
              0.3333333333333333,
              "#9c179e"
             ],
             [
              0.4444444444444444,
              "#bd3786"
             ],
             [
              0.5555555555555556,
              "#d8576b"
             ],
             [
              0.6666666666666666,
              "#ed7953"
             ],
             [
              0.7777777777777778,
              "#fb9f3a"
             ],
             [
              0.8888888888888888,
              "#fdca26"
             ],
             [
              1,
              "#f0f921"
             ]
            ],
            "type": "surface"
           }
          ],
          "table": [
           {
            "cells": {
             "fill": {
              "color": "#EBF0F8"
             },
             "line": {
              "color": "white"
             }
            },
            "header": {
             "fill": {
              "color": "#C8D4E3"
             },
             "line": {
              "color": "white"
             }
            },
            "type": "table"
           }
          ]
         },
         "layout": {
          "annotationdefaults": {
           "arrowcolor": "#2a3f5f",
           "arrowhead": 0,
           "arrowwidth": 1
          },
          "coloraxis": {
           "colorbar": {
            "outlinewidth": 0,
            "ticks": ""
           }
          },
          "colorscale": {
           "diverging": [
            [
             0,
             "#8e0152"
            ],
            [
             0.1,
             "#c51b7d"
            ],
            [
             0.2,
             "#de77ae"
            ],
            [
             0.3,
             "#f1b6da"
            ],
            [
             0.4,
             "#fde0ef"
            ],
            [
             0.5,
             "#f7f7f7"
            ],
            [
             0.6,
             "#e6f5d0"
            ],
            [
             0.7,
             "#b8e186"
            ],
            [
             0.8,
             "#7fbc41"
            ],
            [
             0.9,
             "#4d9221"
            ],
            [
             1,
             "#276419"
            ]
           ],
           "sequential": [
            [
             0,
             "#0d0887"
            ],
            [
             0.1111111111111111,
             "#46039f"
            ],
            [
             0.2222222222222222,
             "#7201a8"
            ],
            [
             0.3333333333333333,
             "#9c179e"
            ],
            [
             0.4444444444444444,
             "#bd3786"
            ],
            [
             0.5555555555555556,
             "#d8576b"
            ],
            [
             0.6666666666666666,
             "#ed7953"
            ],
            [
             0.7777777777777778,
             "#fb9f3a"
            ],
            [
             0.8888888888888888,
             "#fdca26"
            ],
            [
             1,
             "#f0f921"
            ]
           ],
           "sequentialminus": [
            [
             0,
             "#0d0887"
            ],
            [
             0.1111111111111111,
             "#46039f"
            ],
            [
             0.2222222222222222,
             "#7201a8"
            ],
            [
             0.3333333333333333,
             "#9c179e"
            ],
            [
             0.4444444444444444,
             "#bd3786"
            ],
            [
             0.5555555555555556,
             "#d8576b"
            ],
            [
             0.6666666666666666,
             "#ed7953"
            ],
            [
             0.7777777777777778,
             "#fb9f3a"
            ],
            [
             0.8888888888888888,
             "#fdca26"
            ],
            [
             1,
             "#f0f921"
            ]
           ]
          },
          "colorway": [
           "#636efa",
           "#EF553B",
           "#00cc96",
           "#ab63fa",
           "#FFA15A",
           "#19d3f3",
           "#FF6692",
           "#B6E880",
           "#FF97FF",
           "#FECB52"
          ],
          "font": {
           "color": "#2a3f5f"
          },
          "geo": {
           "bgcolor": "white",
           "lakecolor": "white",
           "landcolor": "#E5ECF6",
           "showlakes": true,
           "showland": true,
           "subunitcolor": "white"
          },
          "hoverlabel": {
           "align": "left"
          },
          "hovermode": "closest",
          "mapbox": {
           "style": "light"
          },
          "paper_bgcolor": "white",
          "plot_bgcolor": "#E5ECF6",
          "polar": {
           "angularaxis": {
            "gridcolor": "white",
            "linecolor": "white",
            "ticks": ""
           },
           "bgcolor": "#E5ECF6",
           "radialaxis": {
            "gridcolor": "white",
            "linecolor": "white",
            "ticks": ""
           }
          },
          "scene": {
           "xaxis": {
            "backgroundcolor": "#E5ECF6",
            "gridcolor": "white",
            "gridwidth": 2,
            "linecolor": "white",
            "showbackground": true,
            "ticks": "",
            "zerolinecolor": "white"
           },
           "yaxis": {
            "backgroundcolor": "#E5ECF6",
            "gridcolor": "white",
            "gridwidth": 2,
            "linecolor": "white",
            "showbackground": true,
            "ticks": "",
            "zerolinecolor": "white"
           },
           "zaxis": {
            "backgroundcolor": "#E5ECF6",
            "gridcolor": "white",
            "gridwidth": 2,
            "linecolor": "white",
            "showbackground": true,
            "ticks": "",
            "zerolinecolor": "white"
           }
          },
          "shapedefaults": {
           "line": {
            "color": "#2a3f5f"
           }
          },
          "ternary": {
           "aaxis": {
            "gridcolor": "white",
            "linecolor": "white",
            "ticks": ""
           },
           "baxis": {
            "gridcolor": "white",
            "linecolor": "white",
            "ticks": ""
           },
           "bgcolor": "#E5ECF6",
           "caxis": {
            "gridcolor": "white",
            "linecolor": "white",
            "ticks": ""
           }
          },
          "title": {
           "x": 0.05
          },
          "xaxis": {
           "automargin": true,
           "gridcolor": "white",
           "linecolor": "white",
           "ticks": "",
           "title": {
            "standoff": 15
           },
           "zerolinecolor": "white",
           "zerolinewidth": 2
          },
          "yaxis": {
           "automargin": true,
           "gridcolor": "white",
           "linecolor": "white",
           "ticks": "",
           "title": {
            "standoff": 15
           },
           "zerolinecolor": "white",
           "zerolinewidth": 2
          }
         }
        },
        "updatemenus": [
         {
          "active": 0,
          "buttons": [
           {
            "args": [
             {
              "visible": [
               true,
               false,
               false
              ]
             }
            ],
            "label": "AAPL",
            "method": "update"
           },
           {
            "args": [
             {
              "visible": [
               false,
               true,
               false
              ]
             }
            ],
            "label": "TSLA",
            "method": "update"
           },
           {
            "args": [
             {
              "visible": [
               false,
               false,
               true
              ]
             }
            ],
            "label": "MSFT",
            "method": "update"
           }
          ],
          "direction": "down",
          "type": "buttons",
          "x": 1.1,
          "y": 0.8
         }
        ],
        "xaxis": {
         "autorange": true,
         "title": {
          "text": "Number of Words"
         },
         "type": "log"
        }
       }
      }
     },
     "metadata": {}
    }
   ],
   "source": [
    "fig_2 = go.Figure()\n",
    "\n",
    "visible = [False] * len(['AAPL', 'TSLA', 'MSFT'])\n",
    "visible[0] = True\n",
    "\n",
    "for i, stock in enumerate(['AAPL', 'TSLA', 'MSFT']):\n",
    "    li, _ = get_tweets_by_query(stock, 100, debug=True)\n",
    "    x, y, cnt = organize_data(li)\n",
    "    top_n = cnt.most_common(10)[::-1]\n",
    "\n",
    "    # get the x and y values\n",
    "    X = [cnt for word, cnt in top_n]\n",
    "    Y = [word for word, cnt in top_n]\n",
    "\n",
    "    # plot the bar chart\n",
    "    fig_2.add_trace(go.Bar(\n",
    "        x=X, y=Y,\n",
    "        name='Word Counts',\n",
    "        orientation='h',\n",
    "        marker=dict(color=chart_colors[::-1]),\n",
    "        visible=visible[i]\n",
    "    ))\n",
    "\n",
    "# specify the layout\n",
    "fig_2.update_layout(\n",
    "        xaxis={\n",
    "            'type': 'log',\n",
    "            'autorange': True,\n",
    "            'title': 'Number of Words'\n",
    "        },\n",
    "        height=300,\n",
    "        plot_bgcolor=app_color[\"graph_bg\"],\n",
    "        paper_bgcolor=app_color[\"graph_bg\"],\n",
    "        font={\"color\": app_color[\"graph_font\"]},\n",
    "        autosize=True,\n",
    "        margin=go.layout.Margin(\n",
    "            l=100,\n",
    "            r=25,\n",
    "            b=75,\n",
    "            t=25,\n",
    "            pad=4\n",
    "        ),\n",
    "    )\n",
    "\n",
    "buttons = []\n",
    "\n",
    "for i, stock in enumerate(['AAPL', 'TSLA', 'MSFT']):\n",
    "    false_true = [False] * len(['AAPL', 'TSLA', 'MSFT'])\n",
    "    false_true[i] = True\n",
    "    buttons.append(\n",
    "        dict(label = stock,\n",
    "                method = 'update',\n",
    "                args = [{'visible': false_true}])\n",
    "    )\n",
    "\n",
    "\n",
    "fig_2.update_layout(\n",
    "    updatemenus=[dict(\n",
    "        x=1.1,\n",
    "        y=0.8,\n",
    "        active=0,\n",
    "        type='buttons',\n",
    "        direction='down',\n",
    "        buttons=buttons\n",
    "        )\n",
    "    ])\n",
    "\n",
    "fig_2.show()"
   ]
  },
  {
   "cell_type": "code",
   "execution_count": 188,
   "metadata": {
    "tags": []
   },
   "outputs": [
    {
     "output_type": "stream",
     "name": "stdout",
     "text": "Calls restants : 158\n\nCalls restants : 151\n\n"
    }
   ],
   "source": [
    "# query tweets from the database\n",
    "li, _ = get_tweets_by_query('MSFT', 100, True)\n",
    "\n",
    "df = pd.DataFrame(li, columns=['Date', 'Author', 'Text'])\n",
    "df.Date = df.Date.dt.strftime('%Y-%m-%d')\n",
    "# preprocess the text column\n",
    "df['Text'] = df.Text.apply(preprocess_nltk)"
   ]
  },
  {
   "cell_type": "code",
   "execution_count": 189,
   "metadata": {},
   "outputs": [
    {
     "output_type": "execute_result",
     "data": {
      "text/plain": "543"
     },
     "metadata": {},
     "execution_count": 189
    }
   ],
   "source": [
    "len(df)"
   ]
  },
  {
   "cell_type": "code",
   "execution_count": 190,
   "metadata": {
    "tags": []
   },
   "outputs": [],
   "source": [
    "avg_sentiments = {}\n",
    "\n",
    "for date in df.Date.unique():\n",
    "    sub_df = df[df.Date == date]\n",
    "\n",
    "    sentiments = []\n",
    "    for row in sub_df['Text']:\n",
    "        sentiments.append(sid.polarity_scores(row)['compound'])\n",
    "\n",
    "    avg_sentiments[date] = [np.mean(sentiments), np.std(sentiments)]"
   ]
  },
  {
   "cell_type": "code",
   "execution_count": 191,
   "metadata": {},
   "outputs": [
    {
     "output_type": "display_data",
     "data": {
      "application/vnd.plotly.v1+json": {
       "config": {
        "plotlyServerURL": "https://plot.ly"
       },
       "data": [
        {
         "error_y": {
          "array": [
           0.012629245674081104,
           0.009314425987350439,
           0.013813220214729702,
           0.00948317322793964,
           0.011840307372303936,
           0.009960908544649713,
           0.0085441379641575,
           0.00996658801460623,
           0.009905232976494165,
           0.009472163856956392
          ],
          "color": "#000",
          "thickness": 1.5,
          "type": "data",
          "width": 1
         },
         "marker": {
          "color": "#0BEBDD",
          "size": 10
         },
         "mode": "markers",
         "name": "AAPL",
         "opacity": 0.7,
         "type": "scatter",
         "x": [
          "2020-09-22",
          "2020-09-21",
          "2020-09-20",
          "2020-09-19",
          "2020-09-18",
          "2020-09-17",
          "2020-09-16",
          "2020-09-15",
          "2020-09-14",
          "2020-09-13"
         ],
         "y": [
          0.09723333333333334,
          0.07905909090909091,
          0.45745833333333336,
          0.318124,
          0.11452500000000002,
          0.18097532467532468,
          0.11391470588235295,
          0.08356818181818182,
          0.14297500000000005,
          0.15121428571428572
         ]
        }
       ],
       "layout": {
        "autosize": false,
        "font": {
         "color": "rgb(2, 29, 65)"
        },
        "height": 400,
        "legend": {
         "orientation": "v"
        },
        "margin": {
         "b": 70,
         "l": 75,
         "pad": 4,
         "r": 25,
         "t": 25
        },
        "paper_bgcolor": "rgb(221, 236, 255)",
        "plot_bgcolor": "rgb(221, 236, 255)",
        "template": {
         "data": {
          "bar": [
           {
            "error_x": {
             "color": "#2a3f5f"
            },
            "error_y": {
             "color": "#2a3f5f"
            },
            "marker": {
             "line": {
              "color": "#E5ECF6",
              "width": 0.5
             }
            },
            "type": "bar"
           }
          ],
          "barpolar": [
           {
            "marker": {
             "line": {
              "color": "#E5ECF6",
              "width": 0.5
             }
            },
            "type": "barpolar"
           }
          ],
          "carpet": [
           {
            "aaxis": {
             "endlinecolor": "#2a3f5f",
             "gridcolor": "white",
             "linecolor": "white",
             "minorgridcolor": "white",
             "startlinecolor": "#2a3f5f"
            },
            "baxis": {
             "endlinecolor": "#2a3f5f",
             "gridcolor": "white",
             "linecolor": "white",
             "minorgridcolor": "white",
             "startlinecolor": "#2a3f5f"
            },
            "type": "carpet"
           }
          ],
          "choropleth": [
           {
            "colorbar": {
             "outlinewidth": 0,
             "ticks": ""
            },
            "type": "choropleth"
           }
          ],
          "contour": [
           {
            "colorbar": {
             "outlinewidth": 0,
             "ticks": ""
            },
            "colorscale": [
             [
              0,
              "#0d0887"
             ],
             [
              0.1111111111111111,
              "#46039f"
             ],
             [
              0.2222222222222222,
              "#7201a8"
             ],
             [
              0.3333333333333333,
              "#9c179e"
             ],
             [
              0.4444444444444444,
              "#bd3786"
             ],
             [
              0.5555555555555556,
              "#d8576b"
             ],
             [
              0.6666666666666666,
              "#ed7953"
             ],
             [
              0.7777777777777778,
              "#fb9f3a"
             ],
             [
              0.8888888888888888,
              "#fdca26"
             ],
             [
              1,
              "#f0f921"
             ]
            ],
            "type": "contour"
           }
          ],
          "contourcarpet": [
           {
            "colorbar": {
             "outlinewidth": 0,
             "ticks": ""
            },
            "type": "contourcarpet"
           }
          ],
          "heatmap": [
           {
            "colorbar": {
             "outlinewidth": 0,
             "ticks": ""
            },
            "colorscale": [
             [
              0,
              "#0d0887"
             ],
             [
              0.1111111111111111,
              "#46039f"
             ],
             [
              0.2222222222222222,
              "#7201a8"
             ],
             [
              0.3333333333333333,
              "#9c179e"
             ],
             [
              0.4444444444444444,
              "#bd3786"
             ],
             [
              0.5555555555555556,
              "#d8576b"
             ],
             [
              0.6666666666666666,
              "#ed7953"
             ],
             [
              0.7777777777777778,
              "#fb9f3a"
             ],
             [
              0.8888888888888888,
              "#fdca26"
             ],
             [
              1,
              "#f0f921"
             ]
            ],
            "type": "heatmap"
           }
          ],
          "heatmapgl": [
           {
            "colorbar": {
             "outlinewidth": 0,
             "ticks": ""
            },
            "colorscale": [
             [
              0,
              "#0d0887"
             ],
             [
              0.1111111111111111,
              "#46039f"
             ],
             [
              0.2222222222222222,
              "#7201a8"
             ],
             [
              0.3333333333333333,
              "#9c179e"
             ],
             [
              0.4444444444444444,
              "#bd3786"
             ],
             [
              0.5555555555555556,
              "#d8576b"
             ],
             [
              0.6666666666666666,
              "#ed7953"
             ],
             [
              0.7777777777777778,
              "#fb9f3a"
             ],
             [
              0.8888888888888888,
              "#fdca26"
             ],
             [
              1,
              "#f0f921"
             ]
            ],
            "type": "heatmapgl"
           }
          ],
          "histogram": [
           {
            "marker": {
             "colorbar": {
              "outlinewidth": 0,
              "ticks": ""
             }
            },
            "type": "histogram"
           }
          ],
          "histogram2d": [
           {
            "colorbar": {
             "outlinewidth": 0,
             "ticks": ""
            },
            "colorscale": [
             [
              0,
              "#0d0887"
             ],
             [
              0.1111111111111111,
              "#46039f"
             ],
             [
              0.2222222222222222,
              "#7201a8"
             ],
             [
              0.3333333333333333,
              "#9c179e"
             ],
             [
              0.4444444444444444,
              "#bd3786"
             ],
             [
              0.5555555555555556,
              "#d8576b"
             ],
             [
              0.6666666666666666,
              "#ed7953"
             ],
             [
              0.7777777777777778,
              "#fb9f3a"
             ],
             [
              0.8888888888888888,
              "#fdca26"
             ],
             [
              1,
              "#f0f921"
             ]
            ],
            "type": "histogram2d"
           }
          ],
          "histogram2dcontour": [
           {
            "colorbar": {
             "outlinewidth": 0,
             "ticks": ""
            },
            "colorscale": [
             [
              0,
              "#0d0887"
             ],
             [
              0.1111111111111111,
              "#46039f"
             ],
             [
              0.2222222222222222,
              "#7201a8"
             ],
             [
              0.3333333333333333,
              "#9c179e"
             ],
             [
              0.4444444444444444,
              "#bd3786"
             ],
             [
              0.5555555555555556,
              "#d8576b"
             ],
             [
              0.6666666666666666,
              "#ed7953"
             ],
             [
              0.7777777777777778,
              "#fb9f3a"
             ],
             [
              0.8888888888888888,
              "#fdca26"
             ],
             [
              1,
              "#f0f921"
             ]
            ],
            "type": "histogram2dcontour"
           }
          ],
          "mesh3d": [
           {
            "colorbar": {
             "outlinewidth": 0,
             "ticks": ""
            },
            "type": "mesh3d"
           }
          ],
          "parcoords": [
           {
            "line": {
             "colorbar": {
              "outlinewidth": 0,
              "ticks": ""
             }
            },
            "type": "parcoords"
           }
          ],
          "pie": [
           {
            "automargin": true,
            "type": "pie"
           }
          ],
          "scatter": [
           {
            "marker": {
             "colorbar": {
              "outlinewidth": 0,
              "ticks": ""
             }
            },
            "type": "scatter"
           }
          ],
          "scatter3d": [
           {
            "line": {
             "colorbar": {
              "outlinewidth": 0,
              "ticks": ""
             }
            },
            "marker": {
             "colorbar": {
              "outlinewidth": 0,
              "ticks": ""
             }
            },
            "type": "scatter3d"
           }
          ],
          "scattercarpet": [
           {
            "marker": {
             "colorbar": {
              "outlinewidth": 0,
              "ticks": ""
             }
            },
            "type": "scattercarpet"
           }
          ],
          "scattergeo": [
           {
            "marker": {
             "colorbar": {
              "outlinewidth": 0,
              "ticks": ""
             }
            },
            "type": "scattergeo"
           }
          ],
          "scattergl": [
           {
            "marker": {
             "colorbar": {
              "outlinewidth": 0,
              "ticks": ""
             }
            },
            "type": "scattergl"
           }
          ],
          "scattermapbox": [
           {
            "marker": {
             "colorbar": {
              "outlinewidth": 0,
              "ticks": ""
             }
            },
            "type": "scattermapbox"
           }
          ],
          "scatterpolar": [
           {
            "marker": {
             "colorbar": {
              "outlinewidth": 0,
              "ticks": ""
             }
            },
            "type": "scatterpolar"
           }
          ],
          "scatterpolargl": [
           {
            "marker": {
             "colorbar": {
              "outlinewidth": 0,
              "ticks": ""
             }
            },
            "type": "scatterpolargl"
           }
          ],
          "scatterternary": [
           {
            "marker": {
             "colorbar": {
              "outlinewidth": 0,
              "ticks": ""
             }
            },
            "type": "scatterternary"
           }
          ],
          "surface": [
           {
            "colorbar": {
             "outlinewidth": 0,
             "ticks": ""
            },
            "colorscale": [
             [
              0,
              "#0d0887"
             ],
             [
              0.1111111111111111,
              "#46039f"
             ],
             [
              0.2222222222222222,
              "#7201a8"
             ],
             [
              0.3333333333333333,
              "#9c179e"
             ],
             [
              0.4444444444444444,
              "#bd3786"
             ],
             [
              0.5555555555555556,
              "#d8576b"
             ],
             [
              0.6666666666666666,
              "#ed7953"
             ],
             [
              0.7777777777777778,
              "#fb9f3a"
             ],
             [
              0.8888888888888888,
              "#fdca26"
             ],
             [
              1,
              "#f0f921"
             ]
            ],
            "type": "surface"
           }
          ],
          "table": [
           {
            "cells": {
             "fill": {
              "color": "#EBF0F8"
             },
             "line": {
              "color": "white"
             }
            },
            "header": {
             "fill": {
              "color": "#C8D4E3"
             },
             "line": {
              "color": "white"
             }
            },
            "type": "table"
           }
          ]
         },
         "layout": {
          "annotationdefaults": {
           "arrowcolor": "#2a3f5f",
           "arrowhead": 0,
           "arrowwidth": 1
          },
          "coloraxis": {
           "colorbar": {
            "outlinewidth": 0,
            "ticks": ""
           }
          },
          "colorscale": {
           "diverging": [
            [
             0,
             "#8e0152"
            ],
            [
             0.1,
             "#c51b7d"
            ],
            [
             0.2,
             "#de77ae"
            ],
            [
             0.3,
             "#f1b6da"
            ],
            [
             0.4,
             "#fde0ef"
            ],
            [
             0.5,
             "#f7f7f7"
            ],
            [
             0.6,
             "#e6f5d0"
            ],
            [
             0.7,
             "#b8e186"
            ],
            [
             0.8,
             "#7fbc41"
            ],
            [
             0.9,
             "#4d9221"
            ],
            [
             1,
             "#276419"
            ]
           ],
           "sequential": [
            [
             0,
             "#0d0887"
            ],
            [
             0.1111111111111111,
             "#46039f"
            ],
            [
             0.2222222222222222,
             "#7201a8"
            ],
            [
             0.3333333333333333,
             "#9c179e"
            ],
            [
             0.4444444444444444,
             "#bd3786"
            ],
            [
             0.5555555555555556,
             "#d8576b"
            ],
            [
             0.6666666666666666,
             "#ed7953"
            ],
            [
             0.7777777777777778,
             "#fb9f3a"
            ],
            [
             0.8888888888888888,
             "#fdca26"
            ],
            [
             1,
             "#f0f921"
            ]
           ],
           "sequentialminus": [
            [
             0,
             "#0d0887"
            ],
            [
             0.1111111111111111,
             "#46039f"
            ],
            [
             0.2222222222222222,
             "#7201a8"
            ],
            [
             0.3333333333333333,
             "#9c179e"
            ],
            [
             0.4444444444444444,
             "#bd3786"
            ],
            [
             0.5555555555555556,
             "#d8576b"
            ],
            [
             0.6666666666666666,
             "#ed7953"
            ],
            [
             0.7777777777777778,
             "#fb9f3a"
            ],
            [
             0.8888888888888888,
             "#fdca26"
            ],
            [
             1,
             "#f0f921"
            ]
           ]
          },
          "colorway": [
           "#636efa",
           "#EF553B",
           "#00cc96",
           "#ab63fa",
           "#FFA15A",
           "#19d3f3",
           "#FF6692",
           "#B6E880",
           "#FF97FF",
           "#FECB52"
          ],
          "font": {
           "color": "#2a3f5f"
          },
          "geo": {
           "bgcolor": "white",
           "lakecolor": "white",
           "landcolor": "#E5ECF6",
           "showlakes": true,
           "showland": true,
           "subunitcolor": "white"
          },
          "hoverlabel": {
           "align": "left"
          },
          "hovermode": "closest",
          "mapbox": {
           "style": "light"
          },
          "paper_bgcolor": "white",
          "plot_bgcolor": "#E5ECF6",
          "polar": {
           "angularaxis": {
            "gridcolor": "white",
            "linecolor": "white",
            "ticks": ""
           },
           "bgcolor": "#E5ECF6",
           "radialaxis": {
            "gridcolor": "white",
            "linecolor": "white",
            "ticks": ""
           }
          },
          "scene": {
           "xaxis": {
            "backgroundcolor": "#E5ECF6",
            "gridcolor": "white",
            "gridwidth": 2,
            "linecolor": "white",
            "showbackground": true,
            "ticks": "",
            "zerolinecolor": "white"
           },
           "yaxis": {
            "backgroundcolor": "#E5ECF6",
            "gridcolor": "white",
            "gridwidth": 2,
            "linecolor": "white",
            "showbackground": true,
            "ticks": "",
            "zerolinecolor": "white"
           },
           "zaxis": {
            "backgroundcolor": "#E5ECF6",
            "gridcolor": "white",
            "gridwidth": 2,
            "linecolor": "white",
            "showbackground": true,
            "ticks": "",
            "zerolinecolor": "white"
           }
          },
          "shapedefaults": {
           "line": {
            "color": "#2a3f5f"
           }
          },
          "ternary": {
           "aaxis": {
            "gridcolor": "white",
            "linecolor": "white",
            "ticks": ""
           },
           "baxis": {
            "gridcolor": "white",
            "linecolor": "white",
            "ticks": ""
           },
           "bgcolor": "#E5ECF6",
           "caxis": {
            "gridcolor": "white",
            "linecolor": "white",
            "ticks": ""
           }
          },
          "title": {
           "x": 0.05
          },
          "xaxis": {
           "automargin": true,
           "gridcolor": "white",
           "linecolor": "white",
           "ticks": "",
           "title": {
            "standoff": 15
           },
           "zerolinecolor": "white",
           "zerolinewidth": 2
          },
          "yaxis": {
           "automargin": true,
           "gridcolor": "white",
           "linecolor": "white",
           "ticks": "",
           "title": {
            "standoff": 15
           },
           "zerolinecolor": "white",
           "zerolinewidth": 2
          }
         }
        },
        "xaxis": {
         "automargin": false,
         "nticks": 10,
         "title": {
          "text": "Current Time (GMT)"
         }
        },
        "yaxis": {
         "autorange": true,
         "title": {
          "text": "Sentiment Score"
         }
        }
       }
      }
     },
     "metadata": {}
    }
   ],
   "source": [
    "# plot the scatter plot\n",
    "fig_3 = go.Figure(go.Scatter(\n",
    "    x=[time for time, score in avg_sentiments.items()],\n",
    "    y=[score[0] for time, score in avg_sentiments.items()],\n",
    "    error_y={\n",
    "        \"type\": \"data\",\n",
    "        \"array\": [score[1]/30 for time, score in avg_sentiments.items()],\n",
    "        \"thickness\": 1.5,\n",
    "        \"width\": 1,\n",
    "        \"color\": \"#000\",\n",
    "    },\n",
    "    name='AAPL',\n",
    "    mode='markers',\n",
    "    opacity=0.7,\n",
    "    marker=dict(color=chart_colors[4], size=10)\n",
    "))\n",
    "\n",
    "# specify the layout\n",
    "fig_3.update_layout(\n",
    "        xaxis={\n",
    "            'automargin': False,\n",
    "            'title': 'Current Time (GMT)',\n",
    "            'nticks': len(df.Date.unique()),\n",
    "        },\n",
    "        yaxis={\n",
    "            'autorange': True,\n",
    "            'title': 'Sentiment Score'\n",
    "        },\n",
    "        height=400,\n",
    "        plot_bgcolor=app_color[\"graph_bg\"],\n",
    "        paper_bgcolor=app_color[\"graph_bg\"],\n",
    "        font={\"color\": app_color[\"graph_font\"]},\n",
    "        autosize=False,\n",
    "        legend={\n",
    "            'orientation': 'v',\n",
    "            # 'xanchor': 'right',\n",
    "            # 'yanchor': 'middle',\n",
    "            # 'x': 0.5,\n",
    "            # 'y': 1.025\n",
    "        },\n",
    "        margin=go.layout.Margin(\n",
    "            l=75,\n",
    "            r=25,\n",
    "            b=70,\n",
    "            t=25,\n",
    "            pad=4\n",
    "        ),\n",
    "    )\n",
    "\n",
    "fig_3.show()"
   ]
  },
  {
   "cell_type": "code",
   "execution_count": null,
   "metadata": {},
   "outputs": [],
   "source": []
  }
 ]
}