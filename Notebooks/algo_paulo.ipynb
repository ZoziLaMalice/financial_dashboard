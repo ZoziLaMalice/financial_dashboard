{
 "metadata": {
  "language_info": {
   "codemirror_mode": {
    "name": "ipython",
    "version": 3
   },
   "file_extension": ".py",
   "mimetype": "text/x-python",
   "name": "python",
   "nbconvert_exporter": "python",
   "pygments_lexer": "ipython3",
   "version": "3.8.2-final"
  },
  "orig_nbformat": 2,
  "kernelspec": {
   "name": "python_defaultSpec_1599816215374",
   "display_name": "Python 3.8.2 64-bit"
  }
 },
 "nbformat": 4,
 "nbformat_minor": 2,
 "cells": [
  {
   "cell_type": "code",
   "execution_count": 24,
   "metadata": {},
   "outputs": [],
   "source": [
    "import yfinance as yf\n",
    "import pandas as pd\n",
    "import numpy as np"
   ]
  },
  {
   "cell_type": "code",
   "execution_count": 17,
   "metadata": {
    "tags": []
   },
   "outputs": [],
   "source": [
    "msft = yf.Ticker('MSFT')"
   ]
  },
  {
   "cell_type": "code",
   "execution_count": 26,
   "metadata": {
    "tags": []
   },
   "outputs": [],
   "source": [
    "df = msft.history(interval='1h', period='2y')"
   ]
  },
  {
   "cell_type": "code",
   "execution_count": 28,
   "metadata": {},
   "outputs": [],
   "source": [
    "df['Log Returns'] = np.log(df.Close/df.Close.shift(1))"
   ]
  },
  {
   "cell_type": "code",
   "execution_count": 32,
   "metadata": {},
   "outputs": [],
   "source": [
    "df = df.dropna()"
   ]
  },
  {
   "cell_type": "code",
   "execution_count": 33,
   "metadata": {},
   "outputs": [
    {
     "output_type": "execute_result",
     "data": {
      "text/plain": "              Open    High     Low   Close   Volume  Dividends  Stock Splits  \\\nDate                                                                           \n2018-09-11  110.69  110.69  110.25  110.39  2006747        0.0             0   \n2018-09-11  110.40  111.44  110.40  111.17  3281967        0.0             0   \n2018-09-11  111.18  111.25  110.62  110.79  1706383        0.0             0   \n2018-09-11  110.78  111.22  110.78  111.21  1451658        0.0             0   \n2018-09-11  111.21  111.45  111.09  111.35  1804165        0.0             0   \n...            ...     ...     ...     ...      ...        ...           ...   \n2020-09-10  211.15  211.67  209.13  209.57  3007267        0.0             0   \n2020-09-10  209.58  209.90  207.85  208.91  2652238        0.0             0   \n2020-09-10  208.90  209.43  204.95  205.23  3612446        0.0             0   \n2020-09-10  205.17  206.82  204.11  205.38  5283613        0.0             0   \n2020-09-10  205.35  206.78  204.90  205.35  4128564        0.0             0   \n\n            Log Returns  \nDate                     \n2018-09-11    -0.002443  \n2018-09-11     0.007041  \n2018-09-11    -0.003424  \n2018-09-11     0.003784  \n2018-09-11     0.001258  \n...                 ...  \n2020-09-10    -0.007795  \n2020-09-10    -0.003154  \n2020-09-10    -0.017772  \n2020-09-10     0.000731  \n2020-09-10    -0.000146  \n\n[3511 rows x 8 columns]",
      "text/html": "<div>\n<style scoped>\n    .dataframe tbody tr th:only-of-type {\n        vertical-align: middle;\n    }\n\n    .dataframe tbody tr th {\n        vertical-align: top;\n    }\n\n    .dataframe thead th {\n        text-align: right;\n    }\n</style>\n<table border=\"1\" class=\"dataframe\">\n  <thead>\n    <tr style=\"text-align: right;\">\n      <th></th>\n      <th>Open</th>\n      <th>High</th>\n      <th>Low</th>\n      <th>Close</th>\n      <th>Volume</th>\n      <th>Dividends</th>\n      <th>Stock Splits</th>\n      <th>Log Returns</th>\n    </tr>\n    <tr>\n      <th>Date</th>\n      <th></th>\n      <th></th>\n      <th></th>\n      <th></th>\n      <th></th>\n      <th></th>\n      <th></th>\n      <th></th>\n    </tr>\n  </thead>\n  <tbody>\n    <tr>\n      <th>2018-09-11</th>\n      <td>110.69</td>\n      <td>110.69</td>\n      <td>110.25</td>\n      <td>110.39</td>\n      <td>2006747</td>\n      <td>0.0</td>\n      <td>0</td>\n      <td>-0.002443</td>\n    </tr>\n    <tr>\n      <th>2018-09-11</th>\n      <td>110.40</td>\n      <td>111.44</td>\n      <td>110.40</td>\n      <td>111.17</td>\n      <td>3281967</td>\n      <td>0.0</td>\n      <td>0</td>\n      <td>0.007041</td>\n    </tr>\n    <tr>\n      <th>2018-09-11</th>\n      <td>111.18</td>\n      <td>111.25</td>\n      <td>110.62</td>\n      <td>110.79</td>\n      <td>1706383</td>\n      <td>0.0</td>\n      <td>0</td>\n      <td>-0.003424</td>\n    </tr>\n    <tr>\n      <th>2018-09-11</th>\n      <td>110.78</td>\n      <td>111.22</td>\n      <td>110.78</td>\n      <td>111.21</td>\n      <td>1451658</td>\n      <td>0.0</td>\n      <td>0</td>\n      <td>0.003784</td>\n    </tr>\n    <tr>\n      <th>2018-09-11</th>\n      <td>111.21</td>\n      <td>111.45</td>\n      <td>111.09</td>\n      <td>111.35</td>\n      <td>1804165</td>\n      <td>0.0</td>\n      <td>0</td>\n      <td>0.001258</td>\n    </tr>\n    <tr>\n      <th>...</th>\n      <td>...</td>\n      <td>...</td>\n      <td>...</td>\n      <td>...</td>\n      <td>...</td>\n      <td>...</td>\n      <td>...</td>\n      <td>...</td>\n    </tr>\n    <tr>\n      <th>2020-09-10</th>\n      <td>211.15</td>\n      <td>211.67</td>\n      <td>209.13</td>\n      <td>209.57</td>\n      <td>3007267</td>\n      <td>0.0</td>\n      <td>0</td>\n      <td>-0.007795</td>\n    </tr>\n    <tr>\n      <th>2020-09-10</th>\n      <td>209.58</td>\n      <td>209.90</td>\n      <td>207.85</td>\n      <td>208.91</td>\n      <td>2652238</td>\n      <td>0.0</td>\n      <td>0</td>\n      <td>-0.003154</td>\n    </tr>\n    <tr>\n      <th>2020-09-10</th>\n      <td>208.90</td>\n      <td>209.43</td>\n      <td>204.95</td>\n      <td>205.23</td>\n      <td>3612446</td>\n      <td>0.0</td>\n      <td>0</td>\n      <td>-0.017772</td>\n    </tr>\n    <tr>\n      <th>2020-09-10</th>\n      <td>205.17</td>\n      <td>206.82</td>\n      <td>204.11</td>\n      <td>205.38</td>\n      <td>5283613</td>\n      <td>0.0</td>\n      <td>0</td>\n      <td>0.000731</td>\n    </tr>\n    <tr>\n      <th>2020-09-10</th>\n      <td>205.35</td>\n      <td>206.78</td>\n      <td>204.90</td>\n      <td>205.35</td>\n      <td>4128564</td>\n      <td>0.0</td>\n      <td>0</td>\n      <td>-0.000146</td>\n    </tr>\n  </tbody>\n</table>\n<p>3511 rows × 8 columns</p>\n</div>"
     },
     "metadata": {},
     "execution_count": 33
    }
   ],
   "source": [
    "df"
   ]
  },
  {
   "cell_type": "code",
   "execution_count": 35,
   "metadata": {},
   "outputs": [
    {
     "output_type": "execute_result",
     "data": {
      "text/plain": "              Open    High     Low   Close   Volume  Dividends  Stock Splits  \\\nDate                                                                           \n2018-09-11  110.69  110.69  110.25  110.39  2006747        0.0             0   \n2018-09-11  110.40  111.44  110.40  111.17  3281967        0.0             0   \n2018-09-11  111.18  111.25  110.62  110.79  1706383        0.0             0   \n2018-09-11  110.78  111.22  110.78  111.21  1451658        0.0             0   \n2018-09-11  111.21  111.45  111.09  111.35  1804165        0.0             0   \n2018-09-11  111.35  111.59  111.15  111.28  4517664        0.0             0   \n\n            Log Returns  \nDate                     \n2018-09-11    -0.002443  \n2018-09-11     0.007041  \n2018-09-11    -0.003424  \n2018-09-11     0.003784  \n2018-09-11     0.001258  \n2018-09-11    -0.000629  ",
      "text/html": "<div>\n<style scoped>\n    .dataframe tbody tr th:only-of-type {\n        vertical-align: middle;\n    }\n\n    .dataframe tbody tr th {\n        vertical-align: top;\n    }\n\n    .dataframe thead th {\n        text-align: right;\n    }\n</style>\n<table border=\"1\" class=\"dataframe\">\n  <thead>\n    <tr style=\"text-align: right;\">\n      <th></th>\n      <th>Open</th>\n      <th>High</th>\n      <th>Low</th>\n      <th>Close</th>\n      <th>Volume</th>\n      <th>Dividends</th>\n      <th>Stock Splits</th>\n      <th>Log Returns</th>\n    </tr>\n    <tr>\n      <th>Date</th>\n      <th></th>\n      <th></th>\n      <th></th>\n      <th></th>\n      <th></th>\n      <th></th>\n      <th></th>\n      <th></th>\n    </tr>\n  </thead>\n  <tbody>\n    <tr>\n      <th>2018-09-11</th>\n      <td>110.69</td>\n      <td>110.69</td>\n      <td>110.25</td>\n      <td>110.39</td>\n      <td>2006747</td>\n      <td>0.0</td>\n      <td>0</td>\n      <td>-0.002443</td>\n    </tr>\n    <tr>\n      <th>2018-09-11</th>\n      <td>110.40</td>\n      <td>111.44</td>\n      <td>110.40</td>\n      <td>111.17</td>\n      <td>3281967</td>\n      <td>0.0</td>\n      <td>0</td>\n      <td>0.007041</td>\n    </tr>\n    <tr>\n      <th>2018-09-11</th>\n      <td>111.18</td>\n      <td>111.25</td>\n      <td>110.62</td>\n      <td>110.79</td>\n      <td>1706383</td>\n      <td>0.0</td>\n      <td>0</td>\n      <td>-0.003424</td>\n    </tr>\n    <tr>\n      <th>2018-09-11</th>\n      <td>110.78</td>\n      <td>111.22</td>\n      <td>110.78</td>\n      <td>111.21</td>\n      <td>1451658</td>\n      <td>0.0</td>\n      <td>0</td>\n      <td>0.003784</td>\n    </tr>\n    <tr>\n      <th>2018-09-11</th>\n      <td>111.21</td>\n      <td>111.45</td>\n      <td>111.09</td>\n      <td>111.35</td>\n      <td>1804165</td>\n      <td>0.0</td>\n      <td>0</td>\n      <td>0.001258</td>\n    </tr>\n    <tr>\n      <th>2018-09-11</th>\n      <td>111.35</td>\n      <td>111.59</td>\n      <td>111.15</td>\n      <td>111.28</td>\n      <td>4517664</td>\n      <td>0.0</td>\n      <td>0</td>\n      <td>-0.000629</td>\n    </tr>\n  </tbody>\n</table>\n</div>"
     },
     "metadata": {},
     "execution_count": 35
    }
   ],
   "source": [
    "df.loc['2018-09-11'\t,:]"
   ]
  },
  {
   "cell_type": "code",
   "execution_count": 38,
   "metadata": {},
   "outputs": [],
   "source": [
    "df['Log Cum Sum'] = df['Log Returns'].cumsum()"
   ]
  },
  {
   "cell_type": "code",
   "execution_count": 39,
   "metadata": {},
   "outputs": [
    {
     "output_type": "execute_result",
     "data": {
      "text/plain": "              Open    High     Low   Close   Volume  Dividends  Stock Splits  \\\nDate                                                                           \n2018-09-11  110.69  110.69  110.25  110.39  2006747        0.0             0   \n2018-09-11  110.40  111.44  110.40  111.17  3281967        0.0             0   \n2018-09-11  111.18  111.25  110.62  110.79  1706383        0.0             0   \n2018-09-11  110.78  111.22  110.78  111.21  1451658        0.0             0   \n2018-09-11  111.21  111.45  111.09  111.35  1804165        0.0             0   \n...            ...     ...     ...     ...      ...        ...           ...   \n2020-09-10  211.15  211.67  209.13  209.57  3007267        0.0             0   \n2020-09-10  209.58  209.90  207.85  208.91  2652238        0.0             0   \n2020-09-10  208.90  209.43  204.95  205.23  3612446        0.0             0   \n2020-09-10  205.17  206.82  204.11  205.38  5283613        0.0             0   \n2020-09-10  205.35  206.78  204.90  205.35  4128564        0.0             0   \n\n            Log Returns  Log Cum Sum  \nDate                                  \n2018-09-11    -0.002443    -0.002443  \n2018-09-11     0.007041     0.004598  \n2018-09-11    -0.003424     0.001174  \n2018-09-11     0.003784     0.004958  \n2018-09-11     0.001258     0.006216  \n...                 ...          ...  \n2020-09-10    -0.007795     0.638595  \n2020-09-10    -0.003154     0.635441  \n2020-09-10    -0.017772     0.617669  \n2020-09-10     0.000731     0.618399  \n2020-09-10    -0.000146     0.618253  \n\n[3511 rows x 9 columns]",
      "text/html": "<div>\n<style scoped>\n    .dataframe tbody tr th:only-of-type {\n        vertical-align: middle;\n    }\n\n    .dataframe tbody tr th {\n        vertical-align: top;\n    }\n\n    .dataframe thead th {\n        text-align: right;\n    }\n</style>\n<table border=\"1\" class=\"dataframe\">\n  <thead>\n    <tr style=\"text-align: right;\">\n      <th></th>\n      <th>Open</th>\n      <th>High</th>\n      <th>Low</th>\n      <th>Close</th>\n      <th>Volume</th>\n      <th>Dividends</th>\n      <th>Stock Splits</th>\n      <th>Log Returns</th>\n      <th>Log Cum Sum</th>\n    </tr>\n    <tr>\n      <th>Date</th>\n      <th></th>\n      <th></th>\n      <th></th>\n      <th></th>\n      <th></th>\n      <th></th>\n      <th></th>\n      <th></th>\n      <th></th>\n    </tr>\n  </thead>\n  <tbody>\n    <tr>\n      <th>2018-09-11</th>\n      <td>110.69</td>\n      <td>110.69</td>\n      <td>110.25</td>\n      <td>110.39</td>\n      <td>2006747</td>\n      <td>0.0</td>\n      <td>0</td>\n      <td>-0.002443</td>\n      <td>-0.002443</td>\n    </tr>\n    <tr>\n      <th>2018-09-11</th>\n      <td>110.40</td>\n      <td>111.44</td>\n      <td>110.40</td>\n      <td>111.17</td>\n      <td>3281967</td>\n      <td>0.0</td>\n      <td>0</td>\n      <td>0.007041</td>\n      <td>0.004598</td>\n    </tr>\n    <tr>\n      <th>2018-09-11</th>\n      <td>111.18</td>\n      <td>111.25</td>\n      <td>110.62</td>\n      <td>110.79</td>\n      <td>1706383</td>\n      <td>0.0</td>\n      <td>0</td>\n      <td>-0.003424</td>\n      <td>0.001174</td>\n    </tr>\n    <tr>\n      <th>2018-09-11</th>\n      <td>110.78</td>\n      <td>111.22</td>\n      <td>110.78</td>\n      <td>111.21</td>\n      <td>1451658</td>\n      <td>0.0</td>\n      <td>0</td>\n      <td>0.003784</td>\n      <td>0.004958</td>\n    </tr>\n    <tr>\n      <th>2018-09-11</th>\n      <td>111.21</td>\n      <td>111.45</td>\n      <td>111.09</td>\n      <td>111.35</td>\n      <td>1804165</td>\n      <td>0.0</td>\n      <td>0</td>\n      <td>0.001258</td>\n      <td>0.006216</td>\n    </tr>\n    <tr>\n      <th>...</th>\n      <td>...</td>\n      <td>...</td>\n      <td>...</td>\n      <td>...</td>\n      <td>...</td>\n      <td>...</td>\n      <td>...</td>\n      <td>...</td>\n      <td>...</td>\n    </tr>\n    <tr>\n      <th>2020-09-10</th>\n      <td>211.15</td>\n      <td>211.67</td>\n      <td>209.13</td>\n      <td>209.57</td>\n      <td>3007267</td>\n      <td>0.0</td>\n      <td>0</td>\n      <td>-0.007795</td>\n      <td>0.638595</td>\n    </tr>\n    <tr>\n      <th>2020-09-10</th>\n      <td>209.58</td>\n      <td>209.90</td>\n      <td>207.85</td>\n      <td>208.91</td>\n      <td>2652238</td>\n      <td>0.0</td>\n      <td>0</td>\n      <td>-0.003154</td>\n      <td>0.635441</td>\n    </tr>\n    <tr>\n      <th>2020-09-10</th>\n      <td>208.90</td>\n      <td>209.43</td>\n      <td>204.95</td>\n      <td>205.23</td>\n      <td>3612446</td>\n      <td>0.0</td>\n      <td>0</td>\n      <td>-0.017772</td>\n      <td>0.617669</td>\n    </tr>\n    <tr>\n      <th>2020-09-10</th>\n      <td>205.17</td>\n      <td>206.82</td>\n      <td>204.11</td>\n      <td>205.38</td>\n      <td>5283613</td>\n      <td>0.0</td>\n      <td>0</td>\n      <td>0.000731</td>\n      <td>0.618399</td>\n    </tr>\n    <tr>\n      <th>2020-09-10</th>\n      <td>205.35</td>\n      <td>206.78</td>\n      <td>204.90</td>\n      <td>205.35</td>\n      <td>4128564</td>\n      <td>0.0</td>\n      <td>0</td>\n      <td>-0.000146</td>\n      <td>0.618253</td>\n    </tr>\n  </tbody>\n</table>\n<p>3511 rows × 9 columns</p>\n</div>"
     },
     "metadata": {},
     "execution_count": 39
    }
   ],
   "source": [
    "df"
   ]
  },
  {
   "cell_type": "code",
   "execution_count": 56,
   "metadata": {},
   "outputs": [
    {
     "output_type": "execute_result",
     "data": {
      "text/plain": "Timestamp('2018-09-11 00:00:00')"
     },
     "metadata": {},
     "execution_count": 56
    }
   ],
   "source": [
    "df.index[0]"
   ]
  },
  {
   "cell_type": "code",
   "execution_count": 57,
   "metadata": {
    "tags": []
   },
   "outputs": [
    {
     "output_type": "execute_result",
     "data": {
      "text/plain": "1006.2"
     },
     "metadata": {},
     "execution_count": 57
    }
   ],
   "source": [
    "buys = []\n",
    "sells = []\n",
    "portfolio = 1000\n",
    "evolution = df.iloc[0, -1]\n",
    "buy = False\n",
    "\n",
    "for i in range(1, len(df)):\n",
    "    evolution += df.iloc[i, -2]\n",
    "    if evolution  <= -0.04:\n",
    "        buys.append([df.iloc[i, 3], df.index[i]])\n",
    "        portfolio -= df.iloc[i, 3]\n",
    "        evolution = 0\n",
    "        buy = True\n",
    "    \n",
    "    if evolution <= -0.01 and buy:\n",
    "        sells.append([df.iloc[i, 3], df.index[i]])\n",
    "        portfolio += df.iloc[i, 3]\n",
    "        evolution = 0\n",
    "        buy = False\n",
    "\n",
    "    if evolution >= 0.01 and buy:\n",
    "        sells.append([df.iloc[i, 3], df.index[i]])\n",
    "        evolution = 0\n",
    "        portfolio += df.iloc[i, 3]\n",
    "        buy = False\n",
    "\n",
    "portfolio"
   ]
  },
  {
   "cell_type": "code",
   "execution_count": 58,
   "metadata": {},
   "outputs": [
    {
     "output_type": "execute_result",
     "data": {
      "text/plain": "[[106.3, Timestamp('2018-10-10 00:00:00')],\n [102.38, Timestamp('2018-10-24 00:00:00')],\n [102.75, Timestamp('2018-10-29 00:00:00')],\n [98.83, Timestamp('2018-12-21 00:00:00')]]"
     },
     "metadata": {},
     "execution_count": 58
    }
   ],
   "source": [
    "buys"
   ]
  },
  {
   "cell_type": "code",
   "execution_count": 59,
   "metadata": {},
   "outputs": [
    {
     "output_type": "execute_result",
     "data": {
      "text/plain": "[[107.47, Timestamp('2018-10-11 00:00:00')],\n [108.37, Timestamp('2018-10-25 00:00:00')],\n [104.06, Timestamp('2018-10-29 00:00:00')],\n [96.56, Timestamp('2018-12-24 00:00:00')]]"
     },
     "metadata": {},
     "execution_count": 59
    }
   ],
   "source": [
    "sells"
   ]
  },
  {
   "cell_type": "code",
   "execution_count": 65,
   "metadata": {},
   "outputs": [
    {
     "output_type": "execute_result",
     "data": {
      "text/plain": "              Open    High     Low   Close    Volume  Dividends  Stock Splits  \\\nDate                                                                            \n2018-10-10  107.98  107.99  105.80  106.30  11654684        0.0             0   \n2018-10-24  104.00  104.35  101.60  102.38  12099457        0.0             0   \n2018-10-29  104.28  104.75  102.71  102.75   9142731        0.0             0   \n2018-12-21  101.33  101.36   98.71   98.83   8664716        0.0             0   \n\n            Log Returns  Log Cum Sum  \nDate                                  \n2018-10-10    -0.015588    -0.040197  \n2018-10-24    -0.015892    -0.077771  \n2018-10-29    -0.014877    -0.074164  \n2018-12-21    -0.024488    -0.113061  ",
      "text/html": "<div>\n<style scoped>\n    .dataframe tbody tr th:only-of-type {\n        vertical-align: middle;\n    }\n\n    .dataframe tbody tr th {\n        vertical-align: top;\n    }\n\n    .dataframe thead th {\n        text-align: right;\n    }\n</style>\n<table border=\"1\" class=\"dataframe\">\n  <thead>\n    <tr style=\"text-align: right;\">\n      <th></th>\n      <th>Open</th>\n      <th>High</th>\n      <th>Low</th>\n      <th>Close</th>\n      <th>Volume</th>\n      <th>Dividends</th>\n      <th>Stock Splits</th>\n      <th>Log Returns</th>\n      <th>Log Cum Sum</th>\n    </tr>\n    <tr>\n      <th>Date</th>\n      <th></th>\n      <th></th>\n      <th></th>\n      <th></th>\n      <th></th>\n      <th></th>\n      <th></th>\n      <th></th>\n      <th></th>\n    </tr>\n  </thead>\n  <tbody>\n    <tr>\n      <th>2018-10-10</th>\n      <td>107.98</td>\n      <td>107.99</td>\n      <td>105.80</td>\n      <td>106.30</td>\n      <td>11654684</td>\n      <td>0.0</td>\n      <td>0</td>\n      <td>-0.015588</td>\n      <td>-0.040197</td>\n    </tr>\n    <tr>\n      <th>2018-10-24</th>\n      <td>104.00</td>\n      <td>104.35</td>\n      <td>101.60</td>\n      <td>102.38</td>\n      <td>12099457</td>\n      <td>0.0</td>\n      <td>0</td>\n      <td>-0.015892</td>\n      <td>-0.077771</td>\n    </tr>\n    <tr>\n      <th>2018-10-29</th>\n      <td>104.28</td>\n      <td>104.75</td>\n      <td>102.71</td>\n      <td>102.75</td>\n      <td>9142731</td>\n      <td>0.0</td>\n      <td>0</td>\n      <td>-0.014877</td>\n      <td>-0.074164</td>\n    </tr>\n    <tr>\n      <th>2018-12-21</th>\n      <td>101.33</td>\n      <td>101.36</td>\n      <td>98.71</td>\n      <td>98.83</td>\n      <td>8664716</td>\n      <td>0.0</td>\n      <td>0</td>\n      <td>-0.024488</td>\n      <td>-0.113061</td>\n    </tr>\n  </tbody>\n</table>\n</div>"
     },
     "metadata": {},
     "execution_count": 65
    }
   ],
   "source": [
    "df[(df.index.isin([i[1] for i in buys])) & (df.Close.isin([i[0] for i in buys]))]"
   ]
  },
  {
   "cell_type": "code",
   "execution_count": 66,
   "metadata": {},
   "outputs": [
    {
     "output_type": "execute_result",
     "data": {
      "text/plain": "              Open    High     Low   Close    Volume  Dividends  Stock Splits  \\\nDate                                                                            \n2018-10-11  107.22  107.88  105.94  107.47   7880497        0.0             0   \n2018-10-25  106.45  109.25  106.18  108.37  22544618        0.0             0   \n2018-10-29  102.70  104.16  101.63  104.06  10478628        0.0             0   \n2018-12-24   97.70   97.95   94.58   96.56  16161424        0.0             0   \n\n            Log Returns  Log Cum Sum  \nDate                                  \n2018-10-11     0.002422    -0.029251  \n2018-10-25     0.056860    -0.020911  \n2018-10-29     0.012669    -0.061495  \n2018-12-24    -0.015517    -0.136298  ",
      "text/html": "<div>\n<style scoped>\n    .dataframe tbody tr th:only-of-type {\n        vertical-align: middle;\n    }\n\n    .dataframe tbody tr th {\n        vertical-align: top;\n    }\n\n    .dataframe thead th {\n        text-align: right;\n    }\n</style>\n<table border=\"1\" class=\"dataframe\">\n  <thead>\n    <tr style=\"text-align: right;\">\n      <th></th>\n      <th>Open</th>\n      <th>High</th>\n      <th>Low</th>\n      <th>Close</th>\n      <th>Volume</th>\n      <th>Dividends</th>\n      <th>Stock Splits</th>\n      <th>Log Returns</th>\n      <th>Log Cum Sum</th>\n    </tr>\n    <tr>\n      <th>Date</th>\n      <th></th>\n      <th></th>\n      <th></th>\n      <th></th>\n      <th></th>\n      <th></th>\n      <th></th>\n      <th></th>\n      <th></th>\n    </tr>\n  </thead>\n  <tbody>\n    <tr>\n      <th>2018-10-11</th>\n      <td>107.22</td>\n      <td>107.88</td>\n      <td>105.94</td>\n      <td>107.47</td>\n      <td>7880497</td>\n      <td>0.0</td>\n      <td>0</td>\n      <td>0.002422</td>\n      <td>-0.029251</td>\n    </tr>\n    <tr>\n      <th>2018-10-25</th>\n      <td>106.45</td>\n      <td>109.25</td>\n      <td>106.18</td>\n      <td>108.37</td>\n      <td>22544618</td>\n      <td>0.0</td>\n      <td>0</td>\n      <td>0.056860</td>\n      <td>-0.020911</td>\n    </tr>\n    <tr>\n      <th>2018-10-29</th>\n      <td>102.70</td>\n      <td>104.16</td>\n      <td>101.63</td>\n      <td>104.06</td>\n      <td>10478628</td>\n      <td>0.0</td>\n      <td>0</td>\n      <td>0.012669</td>\n      <td>-0.061495</td>\n    </tr>\n    <tr>\n      <th>2018-12-24</th>\n      <td>97.70</td>\n      <td>97.95</td>\n      <td>94.58</td>\n      <td>96.56</td>\n      <td>16161424</td>\n      <td>0.0</td>\n      <td>0</td>\n      <td>-0.015517</td>\n      <td>-0.136298</td>\n    </tr>\n  </tbody>\n</table>\n</div>"
     },
     "metadata": {},
     "execution_count": 66
    }
   ],
   "source": [
    "df[(df.index.isin([i[1] for i in sells])) & (df.Close.isin([i[0] for i in sells]))]"
   ]
  },
  {
   "cell_type": "code",
   "execution_count": 68,
   "metadata": {},
   "outputs": [],
   "source": [
    "def trading(df, portfolio, buy_, sell_):\n",
    "    buys = []\n",
    "    sells = []\n",
    "    portfolio = portfolio\n",
    "    evolution = df.iloc[0, -1]\n",
    "    buy = False\n",
    "\n",
    "    for i in range(1, len(df)):\n",
    "        evolution += df.iloc[i, -2]\n",
    "        if evolution  <= -buy_:\n",
    "            buys.append([df.iloc[i, 3], df.index[i]])\n",
    "            portfolio -= df.iloc[i, 3]\n",
    "            evolution = 0\n",
    "            buy = True\n",
    "        \n",
    "        if evolution <= -sell_ and buy:\n",
    "            sells.append([df.iloc[i, 3], df.index[i]])\n",
    "            portfolio += df.iloc[i, 3]\n",
    "            evolution = 0\n",
    "            buy = False\n",
    "\n",
    "        if evolution >= sell_ and buy:\n",
    "            sells.append([df.iloc[i, 3], df.index[i]])\n",
    "            evolution = 0\n",
    "            portfolio += df.iloc[i, 3]\n",
    "            buy = False\n",
    "\n",
    "    print(portfolio)"
   ]
  },
  {
   "cell_type": "code",
   "execution_count": 71,
   "metadata": {
    "tags": []
   },
   "outputs": [
    {
     "output_type": "stream",
     "name": "stdout",
     "text": "100006.19999999998\n"
    }
   ],
   "source": [
    "trading(df, 100000, 0.04, 0.01)"
   ]
  },
  {
   "cell_type": "code",
   "execution_count": null,
   "metadata": {},
   "outputs": [],
   "source": []
  }
 ]
}